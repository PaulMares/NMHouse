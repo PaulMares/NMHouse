{
 "cells": [
  {
   "cell_type": "code",
   "id": "9946f592",
   "metadata": {
    "ExecuteTime": {
     "end_time": "2025-05-13T00:59:19.072168Z",
     "start_time": "2025-05-13T00:59:18.561192Z"
    }
   },
   "source": [
    "from gerrychain import (GeographicPartition, Graph, \n",
    "                        updaters, Election)\n",
    "import numpy as np\n",
    "import statistics\n",
    "import geopandas as gpd\n",
    "\n",
    "\n",
    "#presentation most inttresting stuff (could be both)\n",
    "#dont forget evidence of convertions \n"
   ],
   "outputs": [],
   "execution_count": 2
  },
  {
   "cell_type": "code",
   "id": "890afced",
   "metadata": {
    "ExecuteTime": {
     "end_time": "2025-05-13T00:59:19.077353Z",
     "start_time": "2025-05-13T00:59:19.073849Z"
    }
   },
   "source": [
    "def eg(part, election):\n",
    "    election_results = part[election]\n",
    "    dem_counts = election_results.votes(\"Democratic\")  \n",
    "    rep_counts = election_results.votes(\"Republican\")\n",
    "    \n",
    "    wasted_votes_dem = 0\n",
    "    wasted_votes_rep = 0\n",
    "\n",
    "    for i in range(len(dem_counts)): # <- not super familar with python so i used chatGPT with help on how to loop through a tuple\n",
    "        votes_dem = dem_counts[i]\n",
    "        votes_rep = rep_counts[i]\n",
    "        #calculating the total number of votes in the district and the minimum number of votes needed to win the district\n",
    "        total_votes = votes_dem + votes_rep\n",
    "        min_winning_votes = (total_votes // 2) + 1\n",
    "        # if the democratic candidate wins the district then the wasted votes for the republican candidate is the number of votes the republican candidate received\n",
    "        if votes_dem > votes_rep:\n",
    "            wasted_votes_dem += votes_dem - min_winning_votes\n",
    "            wasted_votes_rep += votes_rep\n",
    "        else:\n",
    "            wasted_votes_dem += votes_dem\n",
    "            wasted_votes_rep += votes_rep - min_winning_votes\n",
    "    #calculating the efficiency gap by subtracting the wasted votes of the democratic candidate from the wasted votes of the republican candidate and dividing by the total number of votes\n",
    "    total_votes_all = sum(dem_counts) + sum(rep_counts)\n",
    "    efficiency_gap = (wasted_votes_rep - wasted_votes_dem) / total_votes_all\n",
    "\n",
    "    return efficiency_gap\n"
   ],
   "outputs": [],
   "execution_count": 3
  },
  {
   "cell_type": "code",
   "id": "3fa21892",
   "metadata": {
    "ExecuteTime": {
     "end_time": "2025-05-13T00:59:19.085539Z",
     "start_time": "2025-05-13T00:59:19.081536Z"
    }
   },
   "source": [
    "def cut_edges_count(part):\n",
    "    graph = part.graph\n",
    "    assignment = part.assignment\n",
    "    count = 0\n",
    "    for node in graph.nodes:\n",
    "        district = assignment[node]\n",
    "        for neighbor in graph.neighbors(node):\n",
    "            if assignment[neighbor] != district:\n",
    "                count += 1\n",
    "\n",
    "    return count // 2  # Each cut edge is counted twice (once from each node), so divide by 2\n"
   ],
   "outputs": [],
   "execution_count": 4
  },
  {
   "cell_type": "code",
   "id": "b4a18b2c",
   "metadata": {
    "ExecuteTime": {
     "end_time": "2025-05-13T00:59:27.883381Z",
     "start_time": "2025-05-13T00:59:19.088620Z"
    }
   },
   "source": [
    "geo_df = gpd.read_file(\"./NM/NM.shp\")\n",
    "graph = Graph.from_geodataframe(geo_df)\n"
   ],
   "outputs": [],
   "execution_count": 5
  },
  {
   "cell_type": "code",
   "id": "7d10ffb8",
   "metadata": {
    "ExecuteTime": {
     "end_time": "2025-05-13T00:59:27.916483Z",
     "start_time": "2025-05-13T00:59:27.913448Z"
    }
   },
   "source": [
    "my_updaters = {\"population\": updaters.Tally(\"TOTPOP\", alias=\"population\")}\n",
    "\n",
    "elections = [\n",
    "    Election(\"USS18\", {\"Democratic\": \"G18USSD\", \"Republican\": \"G18USSR\"}),\n",
    "    Election(\"GOV18\", {\"Democratic\": \"G18GOVD\", \"Republican\": \"G18GOVR\"}),\n",
    "    Election(\"SOS18\", {\"Democratic\": \"G18SOSD\", \"Republican\": \"G18SOSR\"}),\n",
    "    Election(\"TRE18\", {\"Democratic\": \"G18TRED\", \"Republican\": \"G18TRER\"}),\n",
    "    Election(\"ATG18\", {\"Democratic\": \"G18ATGD\", \"Republican\": \"G18ATGR\"}),\n",
    "    Election(\"AUD18\", {\"Democratic\": \"G18AUDD\", \"Republican\": \"G18AUDR\"}),\n",
    "    Election(\"LND18\", {\"Democratic\": \"G18LNDD\", \"Republican\": \"G18LNDR\"}),\n",
    "]\n"
   ],
   "outputs": [],
   "execution_count": 6
  },
  {
   "cell_type": "code",
   "id": "d08ddc03",
   "metadata": {
    "ExecuteTime": {
     "end_time": "2025-05-13T00:59:27.930808Z",
     "start_time": "2025-05-13T00:59:27.928186Z"
    }
   },
   "source": [
    "election_updaters = {election.name: election for election in elections}\n",
    "my_updaters.update(election_updaters)\n"
   ],
   "outputs": [],
   "execution_count": 7
  },
  {
   "cell_type": "code",
   "id": "d8429137",
   "metadata": {
    "ExecuteTime": {
     "end_time": "2025-05-13T00:59:27.946885Z",
     "start_time": "2025-05-13T00:59:27.942883Z"
    }
   },
   "source": [
    "initial_partition = GeographicPartition(graph, \n",
    "                                        assignment= \"SACD\", updaters=my_updaters) "
   ],
   "outputs": [],
   "execution_count": 8
  },
  {
   "cell_type": "code",
   "id": "92179dc2",
   "metadata": {
    "ExecuteTime": {
     "end_time": "2025-05-13T00:59:27.963440Z",
     "start_time": "2025-05-13T00:59:27.957921Z"
    }
   },
   "source": [
    "ideal_population = sum(initial_partition[\"population\"].values()) / len(initial_partition)\n",
    "print(type(initial_partition[elections[0].name]))\n"
   ],
   "outputs": [
    {
     "name": "stdout",
     "output_type": "stream",
     "text": [
      "<class 'gerrychain.updaters.election.ElectionResults'>\n"
     ]
    }
   ],
   "execution_count": 9
  },
  {
   "metadata": {
    "ExecuteTime": {
     "end_time": "2025-05-13T00:59:27.978765Z",
     "start_time": "2025-05-13T00:59:27.974758Z"
    }
   },
   "cell_type": "code",
   "source": "print(dir(initial_partition[elections[1].name]))",
   "id": "d0871d105429f85c",
   "outputs": [
    {
     "name": "stdout",
     "output_type": "stream",
     "text": [
      "['__class__', '__delattr__', '__dict__', '__dir__', '__doc__', '__eq__', '__format__', '__ge__', '__getattribute__', '__getstate__', '__gt__', '__hash__', '__init__', '__init_subclass__', '__le__', '__lt__', '__module__', '__ne__', '__new__', '__reduce__', '__reduce_ex__', '__repr__', '__setattr__', '__sizeof__', '__str__', '__subclasshook__', '__weakref__', 'count', 'counts', 'efficiency_gap', 'election', 'mean_median', 'mean_thirdian', 'partisan_bias', 'partisan_gini', 'percent', 'percents', 'percents_for_party', 'regions', 'seats', 'total_votes', 'totals', 'totals_for_party', 'votes', 'wins', 'won']\n"
     ]
    }
   ],
   "execution_count": 10
  },
  {
   "metadata": {
    "ExecuteTime": {
     "end_time": "2025-05-13T00:59:27.996429Z",
     "start_time": "2025-05-13T00:59:27.990880Z"
    }
   },
   "cell_type": "code",
   "source": [
    "dem_won = initial_partition[\"SOS18\"].wins(\"Democratic\")\n",
    "print(\"Democratic-won districts:\", dem_won)\n",
    "print(\"Efficiency gap: \", eg(initial_partition, elections[2].name))\n",
    "print(\"Cut edges:\", cut_edges_count(initial_partition))"
   ],
   "id": "e9dfb2a38297d2b3",
   "outputs": [
    {
     "name": "stdout",
     "output_type": "stream",
     "text": [
      "Democratic-won districts: 54\n",
      "Efficiency gap:  0.08283925415879585\n",
      "Cut edges: 1453\n"
     ]
    }
   ],
   "execution_count": 11
  },
  {
   "cell_type": "code",
   "id": "c7eed413",
   "metadata": {
    "ExecuteTime": {
     "end_time": "2025-05-13T00:59:28.012544Z",
     "start_time": "2025-05-13T00:59:28.008531Z"
    }
   },
   "source": [
    "dem_won = initial_partition[\"GOV18\"].wins(\"Democratic\")\n",
    "print(\"Democratic-won districts:\", dem_won)\n",
    "print(\"Efficiency gap: \", eg(initial_partition, elections[1].name))\n",
    "print(\"Cut edges:\", cut_edges_count(initial_partition))\n"
   ],
   "outputs": [
    {
     "name": "stdout",
     "output_type": "stream",
     "text": [
      "Democratic-won districts: 49\n",
      "Efficiency gap:  0.07919633460117526\n",
      "Cut edges: 1453\n"
     ]
    }
   ],
   "execution_count": 12
  }
 ],
 "metadata": {
  "kernelspec": {
   "display_name": "gerry",
   "language": "python",
   "name": "python3"
  },
  "language_info": {
   "codemirror_mode": {
    "name": "ipython",
    "version": 3
   },
   "file_extension": ".py",
   "mimetype": "text/x-python",
   "name": "python",
   "nbconvert_exporter": "python",
   "pygments_lexer": "ipython3",
   "version": "3.11.11"
  }
 },
 "nbformat": 4,
 "nbformat_minor": 5
}
