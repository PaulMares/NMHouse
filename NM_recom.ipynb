{
 "cells": [
  {
   "cell_type": "markdown",
   "metadata": {},
   "source": [
    "# Running a ReCom Chain\n",
    "\n",
    "## Set Up the chain\n",
    "\n",
    "@author eveomett <br>\n",
    "AI for Redistricting <br>\n",
    "For this to run, you need PA.json and also the PA shapefile data."
   ]
  },
  {
   "cell_type": "code",
   "execution_count": 1,
   "metadata": {},
   "outputs": [],
   "source": [
    "import random\n",
    "random.seed(12345678)"
   ]
  },
  {
   "cell_type": "code",
   "execution_count": 2,
   "metadata": {},
   "outputs": [],
   "source": [
    "import matplotlib.pyplot as plt\n",
    "from gerrychain import (GeographicPartition, Partition, Graph, MarkovChain,\n",
    "                        proposals, updaters, constraints, accept, Election)\n",
    "from gerrychain.proposals import recom\n",
    "from functools import partial\n",
    "import pandas as pd\n",
    "import geopandas as gpd\n",
    "import csv\n",
    "import os\n",
    "import datetime  #For keeping track of runtime\n",
    "import tqdm # for progress bar"
   ]
  },
  {
   "cell_type": "markdown",
   "metadata": {},
   "source": [
    "Adding time information can help you know how long you might need to run a longer chain.  It's not so useful for a jupyter notebook, but you may want to use it in your project."
   ]
  },
  {
   "cell_type": "code",
   "execution_count": 3,
   "metadata": {},
   "outputs": [
    {
     "name": "stdout",
     "output_type": "stream",
     "text": [
      "\n",
      "Begin date and time :  2025-04-21 10:33:22\n"
     ]
    }
   ],
   "source": [
    "beginrun = datetime.datetime.now()\n",
    "print (\"\\nBegin date and time : \", beginrun.strftime(\"%Y-%m-%d %H:%M:%S\"))"
   ]
  },
  {
   "cell_type": "markdown",
   "metadata": {},
   "source": [
    "We can create files for later analyses, if desired. <br>\n",
    "I'll create files and put them in this directory:"
   ]
  },
  {
   "cell_type": "code",
   "execution_count": 4,
   "metadata": {},
   "outputs": [],
   "source": [
    "outdir=\"./PA_recom_2011_CD/\""
   ]
  },
  {
   "cell_type": "markdown",
   "metadata": {},
   "source": [
    "Here are some parameters that we can change later if we'd like. <br>\n",
    "```save_district_plot_mod``` determines which plots (maps) we'll save."
   ]
  },
  {
   "cell_type": "code",
   "execution_count": 5,
   "metadata": {},
   "outputs": [],
   "source": [
    "total_steps_in_run=500\n",
    "save_district_graph_mod=1\n",
    "save_district_plot_mod=100"
   ]
  },
  {
   "cell_type": "code",
   "execution_count": 11,
   "metadata": {},
   "outputs": [],
   "source": [
    "os.makedirs(outdir, exist_ok=True)\n",
    "graph = Graph.from_file(\"NM_files/NM.shp\")\n"
   ]
  },
  {
   "cell_type": "markdown",
   "metadata": {},
   "source": [
    "These are the elections we have available:"
   ]
  },
  {
   "cell_type": "code",
   "execution_count": 12,
   "metadata": {},
   "outputs": [],
   "source": [
    "elections = [\n",
    "    Election(\"SEN10\", {\"Democratic\": \"SEN10D\", \"Republican\": \"SEN10R\"}),\n",
    "    Election(\"SEN12\", {\"Democratic\": \"USS12D\", \"Republican\": \"USS12R\"}),\n",
    "    Election(\"SEN16\", {\"Democratic\": \"T16SEND\", \"Republican\": \"T16SENR\"}),\n",
    "    Election(\"PRES12\", {\"Democratic\": \"PRES12D\", \"Republican\": \"PRES12R\"}),\n",
    "    Election(\"PRES16\", {\"Democratic\": \"T16PRESD\", \"Republican\": \"T16PRESR\"}),\n",
    "    Election(\"GOV14\", {\"Democratic\": \"GOV14D\", \"Republican\": \"GOV14R\"})\n",
    "]\n"
   ]
  },
  {
   "cell_type": "markdown",
   "metadata": {},
   "source": [
    "Remember the population updater is for computing how close to equality the district populations are. <br>\n",
    "\"TOT_POP\" is the population column from our shapefile."
   ]
  },
  {
   "cell_type": "code",
   "execution_count": 14,
   "metadata": {},
   "outputs": [],
   "source": [
    "my_updaters = {\"population\": updaters.Tally(\"TOTPOP\", alias=\"population\")}"
   ]
  },
  {
   "cell_type": "markdown",
   "metadata": {},
   "source": [
    "Election updaters, for computing election results using the vote totals from our shapefile."
   ]
  },
  {
   "cell_type": "code",
   "execution_count": 16,
   "metadata": {},
   "outputs": [],
   "source": [
    "election_updaters = {election.name: election for election in elections}\n",
    "my_updaters.update(election_updaters)"
   ]
  },
  {
   "cell_type": "markdown",
   "metadata": {},
   "source": [
    "This assignment is using the PA map with the Goofy kicking Donald Duck district in it."
   ]
  },
  {
   "cell_type": "code",
   "execution_count": 18,
   "metadata": {},
   "outputs": [],
   "source": [
    "initial_partition = GeographicPartition(graph, \n",
    "                                        assignment= \"CD_2011\", #\"2011_PLA_1\",     # \"GOV\", \"REMEDIAL_P\", \n",
    "                                        updaters=my_updaters)"
   ]
  },
  {
   "cell_type": "markdown",
   "metadata": {},
   "source": [
    "The ReCom proposal needs to know the ideal population for the districts so that we can improve speed by bailing early on unbalanced partitions."
   ]
  },
  {
   "cell_type": "code",
   "execution_count": 20,
   "metadata": {},
   "outputs": [],
   "source": [
    "ideal_population = sum(initial_partition[\"population\"].values()) / len(initial_partition)"
   ]
  },
  {
   "cell_type": "code",
   "execution_count": 21,
   "metadata": {},
   "outputs": [],
   "source": [
    "proposal = partial(recom,\n",
    "                   pop_col=\"TOTPOP\",\n",
    "                   pop_target=ideal_population,\n",
    "                   epsilon=0.02,\n",
    "                   node_repeats=2\n",
    "                  )"
   ]
  },
  {
   "cell_type": "code",
   "execution_count": 22,
   "metadata": {},
   "outputs": [],
   "source": [
    "compactness_bound = constraints.UpperBound(\n",
    "    lambda p: len(p[\"cut_edges\"]),\n",
    "    2*len(initial_partition[\"cut_edges\"])\n",
    ")"
   ]
  },
  {
   "cell_type": "code",
   "execution_count": 23,
   "metadata": {},
   "outputs": [],
   "source": [
    "pop_constraint = constraints.within_percent_of_ideal_population(initial_partition, 0.02)"
   ]
  },
  {
   "cell_type": "code",
   "execution_count": 24,
   "metadata": {},
   "outputs": [],
   "source": [
    "chain = MarkovChain(\n",
    "    proposal=proposal,\n",
    "    constraints=[\n",
    "        pop_constraint,\n",
    "        compactness_bound\n",
    "    ],\n",
    "    accept=accept.always_accept,\n",
    "    initial_state=initial_partition,\n",
    "    total_steps=total_steps_in_run\n",
    "    )"
   ]
  },
  {
   "cell_type": "markdown",
   "metadata": {},
   "source": [
    "## Signature of Gerrymandering\n",
    "\n",
    "We will use the dataframe below to get `signature of gerrymandering'<br>\n",
    "Much of this was taken from [https://gerrychain.readthedocs.io/en/latest/user/recom/#a-real-world-example](https://gerrychain.readthedocs.io/en/latest/user/recom/#a-real-world-example)"
   ]
  },
  {
   "cell_type": "code",
   "execution_count": 26,
   "metadata": {},
   "outputs": [
    {
     "name": "stderr",
     "output_type": "stream",
     "text": [
      "/Users/eveomett/anaconda3/envs/gerry/lib/python3.11/site-packages/tqdm/auto.py:21: TqdmWarning: IProgress not found. Please update jupyter and ipywidgets. See https://ipywidgets.readthedocs.io/en/stable/user_install.html\n",
      "  from .autonotebook import tqdm as notebook_tqdm\n",
      "100%|█████████████████████████████████████████| 500/500 [00:35<00:00, 14.11it/s]\n"
     ]
    }
   ],
   "source": [
    "data = pd.DataFrame(\n",
    "    sorted(partition[\"SEN16\"].percents(\"Democratic\"))\n",
    "    for partition in chain.with_progress_bar()\n",
    ")"
   ]
  },
  {
   "cell_type": "code",
   "execution_count": 27,
   "metadata": {},
   "outputs": [
    {
     "data": {
      "image/png": "[encoded data removed]",
      "text/plain": [
       "<Figure size 800x600 with 1 Axes>"
      ]
     },
     "metadata": {},
     "output_type": "display_data"
    }
   ],
   "source": [
    "fig, ax = plt.subplots(figsize=(8, 6))\n",
    "\n",
    "# Draw 50% line\n",
    "ax.axhline(0.5, color=\"#cccccc\")\n",
    "\n",
    "# Draw boxplot\n",
    "data.boxplot(ax=ax, positions=range(len(data.columns)))\n",
    "\n",
    "# Draw initial plan's Democratic vote %s (.iloc[0] gives the first row, which corresponds to the initial plan)\n",
    "plt.plot(data.iloc[0], \"ro\")\n",
    "\n",
    "# Annotate\n",
    "ax.set_title(\"Comparing the 2011 plan to an ensemble\")\n",
    "ax.set_ylabel(\"Democratic vote % (Senate 2016)\")\n",
    "ax.set_xlabel(\"Sorted districts\")\n",
    "ax.set_ylim(0.25, 1)\n",
    "ax.set_yticks([0.3, 0.4, 0.5, 0.6, 0.7, 0.8, 0.9, 1])\n",
    "plt.savefig('PAbox_plotSen2016.png')\n",
    "plt.show()"
   ]
  },
  {
   "cell_type": "markdown",
   "metadata": {},
   "source": [
    "## Creating output files\n",
    "\n",
    "Here we'll create some output files for each of our maps. <br>\n",
    "For each graph, we have one csv with the partisan (election outcome) data, and one csv with the district dual graph data. <br>\n",
    "We're also outputting the map every 100 steps."
   ]
  },
  {
   "cell_type": "code",
   "execution_count": 29,
   "metadata": {},
   "outputs": [],
   "source": [
    "df=gpd.read_file(\"./PA.shp\")"
   ]
  },
  {
   "cell_type": "code",
   "execution_count": 30,
   "metadata": {},
   "outputs": [],
   "source": [
    "index_output_file = outdir + \"_index.csv\""
   ]
  },
  {
   "cell_type": "code",
   "execution_count": 31,
   "metadata": {},
   "outputs": [],
   "source": [
    "with open(index_output_file, mode='w') as index_file:\n",
    "    index_writer = csv.writer(index_file, delimiter=',', quotechar='\"', quoting=csv.QUOTE_MINIMAL)\n",
    "    \n",
    "    #Run through chain, building \n",
    "    for t, part in enumerate(chain):\n",
    "        if t%save_district_graph_mod==0:\n",
    "            tmp_str=str(t)\n",
    "            file_prefix=tmp_str.rjust(8,'0')\n",
    "            \n",
    "            #Add file names to index file            \n",
    "            edges_output_file = outdir + file_prefix + \"_edges.csv\"\n",
    "            districts_output_file = outdir + file_prefix + \"_districts.csv\"            \n",
    "            index_writer.writerow([\"./\" + file_prefix + \"_districts.csv\", \"./\" + file_prefix + \"_edges.csv\"])\n",
    "                        \n",
    "\n",
    "            #Build the district graph and write edges to file    \n",
    "            s=set()\n",
    "            for e in part[\"cut_edges\"]:\n",
    "                s.add( (part.assignment[e[0]],part.assignment[e[1]] ))\n",
    "                #s.add( (e[0],e[1]) )\n",
    "                \n",
    "            with open(edges_output_file, mode='w') as edges_file:\n",
    "                edges_writer = csv.writer(edges_file, delimiter=',', quotechar='\"', quoting=csv.QUOTE_MINIMAL)\n",
    "        \n",
    "                for e1 in s:\n",
    "                    edges_writer.writerow([e1[0],e1[1]])\n",
    "               \n",
    "            \n",
    "            #Build the district file that contains election results\n",
    "            D_votes = part[\"SEN16\"].votes(\"Democratic\") \n",
    "            R_votes = part[\"SEN16\"].votes(\"Republican\") \n",
    "           \n",
    "            with open(districts_output_file, mode='w') as districts_file:            \n",
    "                districts_writer = csv.writer(districts_file, delimiter=',', quotechar='\"', quoting=csv.QUOTE_MINIMAL)\n",
    "        \n",
    "                for i in range(len(D_votes)):\n",
    "                    districts_writer.writerow([i+1, int(D_votes[i]),int(R_votes[i]),0])\n",
    "             \n",
    "        if t%save_district_plot_mod==0:\n",
    "            df.plot(pd.Series([part.assignment[i] for i in df.index]), cmap=\"tab20\", figsize=(16,8))\n",
    "            #plt.show()\n",
    "            plot_output_file = outdir + file_prefix + \"_plot.png\"\n",
    "            plt.savefig(plot_output_file)\n",
    "            plt.close()\n",
    "    \n",
    "            "
   ]
  },
  {
   "cell_type": "markdown",
   "metadata": {},
   "source": [
    "And if you want to find the total time:"
   ]
  },
  {
   "cell_type": "code",
   "execution_count": 33,
   "metadata": {},
   "outputs": [
    {
     "name": "stdout",
     "output_type": "stream",
     "text": [
      "\n",
      "End date and time :  2024-12-16 13:38:31\n",
      "\n",
      "Total time:  0:01:25.278576\n"
     ]
    }
   ],
   "source": [
    "endrun = datetime.datetime.now()\n",
    "print (\"\\nEnd date and time : \", endrun.strftime(\"%Y-%m-%d %H:%M:%S\"))\n",
    "\n",
    "    \n",
    "diff=endrun-beginrun\n",
    "print(\"\\nTotal time: \", str(diff))"
   ]
  },
  {
   "cell_type": "code",
   "execution_count": null,
   "metadata": {},
   "outputs": [],
   "source": []
  }
 ],
 "metadata": {
  "kernelspec": {
   "display_name": "gerry",
   "language": "python",
   "name": "python3"
  },
  "language_info": {
   "codemirror_mode": {
    "name": "ipython",
    "version": 3
   },
   "file_extension": ".py",
   "mimetype": "text/x-python",
   "name": "python",
   "nbconvert_exporter": "python",
   "pygments_lexer": "ipython3",
   "version": "3.11.4"
  }
 },
 "nbformat": 4,
 "nbformat_minor": 4
}
