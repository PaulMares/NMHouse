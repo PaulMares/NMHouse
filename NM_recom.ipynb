{
 "cells": [
  {
   "cell_type": "markdown",
   "metadata": {},
   "source": [
    "#ReCom Chain\n",
    "\n"
   ]
  },
  {
   "cell_type": "code",
   "metadata": {
    "ExecuteTime": {
     "end_time": "2025-04-21T18:10:35.032505Z",
     "start_time": "2025-04-21T18:10:35.029895Z"
    }
   },
   "source": [
    "import random\n",
    "random.seed(12345678)"
   ],
   "outputs": [],
   "execution_count": 27
  },
  {
   "cell_type": "code",
   "metadata": {
    "ExecuteTime": {
     "end_time": "2025-04-21T18:10:36.109206Z",
     "start_time": "2025-04-21T18:10:36.105425Z"
    }
   },
   "source": [
    "import matplotlib.pyplot as plt\n",
    "from gerrychain import (GeographicPartition, Partition, Graph, MarkovChain,\n",
    "                        proposals, updaters, constraints, accept, Election)\n",
    "from gerrychain.proposals import recom\n",
    "from functools import partial\n",
    "import pandas as pd\n",
    "import geopandas as gpd\n",
    "import csv\n",
    "import os\n",
    "import datetime  #For keeping track of runtime\n",
    "import tqdm # for progress bar"
   ],
   "outputs": [],
   "execution_count": 28
  },
  {
   "cell_type": "markdown",
   "metadata": {},
   "source": [
    "Adding time information can help you know how long you might need to run a longer chain.  It's not so useful for a jupyter notebook, but you may want to use it in your project."
   ]
  },
  {
   "cell_type": "code",
   "metadata": {
    "ExecuteTime": {
     "end_time": "2025-04-21T18:10:37.941876Z",
     "start_time": "2025-04-21T18:10:37.939194Z"
    }
   },
   "source": [
    "beginrun = datetime.datetime.now()\n",
    "print (\"\\nBegin date and time : \", beginrun.strftime(\"%Y-%m-%d %H:%M:%S\"))"
   ],
   "outputs": [
    {
     "name": "stdout",
     "output_type": "stream",
     "text": [
      "\n",
      "Begin date and time :  2025-04-21 11:10:37\n"
     ]
    }
   ],
   "execution_count": 29
  },
  {
   "cell_type": "markdown",
   "metadata": {},
   "source": [
    "We can create files for later analyses, if desired. <br>\n",
    "I'll create files and put them in this directory:"
   ]
  },
  {
   "cell_type": "code",
   "metadata": {
    "ExecuteTime": {
     "end_time": "2025-04-21T18:37:38.570732Z",
     "start_time": "2025-04-21T18:37:38.567228Z"
    }
   },
   "source": "outdir=\"./NM_recom/\"",
   "outputs": [],
   "execution_count": 96
  },
  {
   "cell_type": "markdown",
   "metadata": {},
   "source": [
    "Here are some parameters that we can change later if we'd like. <br>\n",
    "```save_district_plot_mod``` determines which plots (maps) we'll save."
   ]
  },
  {
   "cell_type": "code",
   "metadata": {
    "ExecuteTime": {
     "end_time": "2025-04-21T18:34:08.622013Z",
     "start_time": "2025-04-21T18:34:08.619326Z"
    }
   },
   "source": [
    "total_steps_in_run=100\n",
    "save_district_graph_mod=1\n",
    "save_district_plot_mod=10"
   ],
   "outputs": [],
   "execution_count": 91
  },
  {
   "cell_type": "code",
   "metadata": {
    "ExecuteTime": {
     "end_time": "2025-04-21T18:31:50.304107Z",
     "start_time": "2025-04-21T18:31:41.513439Z"
    }
   },
   "source": [
    "os.makedirs(outdir, exist_ok=True)\n",
    "graph = Graph.from_file(\"NM/NM.shp\")\n",
    "\n",
    "first_node = list(graph.nodes)[0]\n",
    "\n",
    "# Get all the column names / attribute keys\n",
    "print(list(graph.nodes[first_node].keys()))\n",
    "print(sum([graph.nodes[node][\"TOTPOP\"] for node in graph.nodes]))\n"
   ],
   "outputs": [
    {
     "name": "stdout",
     "output_type": "stream",
     "text": [
      "['boundary_node', 'area', 'STATEFP', 'COUNTYFP', 'COUNTYNAME', 'VTDST', 'NAME', 'G20PRED', 'G20PRER', 'G20SACDIVE', 'G20SACRJOH', 'G20SACDHEN', 'G20SACRLEE', 'G20SACLCUR', 'G20SACDYOH', 'G20SACRMON', 'TOTPOP', 'HISP', 'NH_WHITE', 'NH_BLACK', 'NH_AMIN', 'NH_ASIAN', 'NH_NHPI', 'NH_OTHER', 'NH_2MORE', 'VAP', 'HVAP', 'WVAP', 'BVAP', 'AMINVAP', 'ASIANVAP', 'NHPIVAP', 'OTHERVAP', '2MOREVAP', 'G18USSD', 'G18USSR', 'G18GOVD', 'G18GOVR', 'G18SOSD', 'G18SOSR', 'G18TRED', 'G18TRER', 'G18ATGD', 'G18ATGR', 'G18AUDD', 'G18AUDR', 'G18LNDD', 'G18LNDR', 'SACD', 'geometry']\n",
      "2117522\n"
     ]
    }
   ],
   "execution_count": 89
  },
  {
   "cell_type": "markdown",
   "metadata": {},
   "source": [
    "These are the elections we have available:"
   ]
  },
  {
   "cell_type": "code",
   "metadata": {
    "ExecuteTime": {
     "end_time": "2025-04-21T18:12:54.910256Z",
     "start_time": "2025-04-21T18:12:54.906615Z"
    }
   },
   "source": [
    "elections = [\n",
    "\tElection(\"US_Sen_2018\", {\"Democratic\": \"G18USSD\", \"Republican\": \"G18USSR\"}),\n",
    "\tElection(\"Governor_2018\", {\"Democratic\": \"G18GOVD\", \"Republican\": \"G18GOVR\"}),\n",
    "\tElection(\"Pres_2020\", {\"Democratic\": \"G20PRED\", \"Republican\": \"G20PRER\"}),\n",
    "\tElection(\"SoS_2018\", {\"Democratic\": \"G18SOSD\", \"Republican\": \"G18SOSR\"}),\n",
    "\tElection(\"Treasurer_2018\", {\"Democratic\": \"G18TRED\", \"Republican\": \"G18TRER\"}),\n",
    "\tElection(\"AG_2018\", {\"Democratic\": \"G18ATGD\", \"Republican\": \"G18ATGR\"}),\n",
    "\tElection(\"Auditor_2018\", {\"Democratic\": \"G18AUDD\", \"Republican\": \"G18AUDR\"}),\n",
    "\tElection(\"LandComm_2018\", {\"Democratic\": \"G18LNDD\", \"Republican\": \"G18LNDR\"})\n",
    "]"
   ],
   "outputs": [],
   "execution_count": 45
  },
  {
   "cell_type": "markdown",
   "metadata": {},
   "source": [
    "Remember the population updater is for computing how close to equality the district populations are. <br>\n",
    "\"TOT_POP\" is the population column from our shapefile."
   ]
  },
  {
   "cell_type": "code",
   "metadata": {
    "ExecuteTime": {
     "end_time": "2025-04-21T18:12:56.598582Z",
     "start_time": "2025-04-21T18:12:56.596159Z"
    }
   },
   "source": [
    "my_updaters = {\"population\": updaters.Tally(\"TOTPOP\", alias=\"population\")}"
   ],
   "outputs": [],
   "execution_count": 46
  },
  {
   "cell_type": "markdown",
   "metadata": {},
   "source": [
    "Election updaters, for computing election results using the vote totals from our shapefile."
   ]
  },
  {
   "cell_type": "code",
   "metadata": {
    "ExecuteTime": {
     "end_time": "2025-04-21T18:12:58.484129Z",
     "start_time": "2025-04-21T18:12:58.481546Z"
    }
   },
   "source": [
    "election_updaters = {election.name: election for election in elections}\n",
    "my_updaters.update(election_updaters)"
   ],
   "outputs": [],
   "execution_count": 47
  },
  {
   "cell_type": "code",
   "metadata": {
    "ExecuteTime": {
     "end_time": "2025-04-21T18:20:09.589929Z",
     "start_time": "2025-04-21T18:20:09.585406Z"
    }
   },
   "source": [
    "initial_partition = GeographicPartition(graph,\n",
    "                                        assignment= \"SACD\",\n",
    "                                        updaters=my_updaters,)\n"
   ],
   "outputs": [],
   "execution_count": 57
  },
  {
   "cell_type": "markdown",
   "metadata": {},
   "source": [
    "The ReCom proposal needs to know the ideal population for the districts so that we can improve speed by bailing early on unbalanced partitions."
   ]
  },
  {
   "cell_type": "code",
   "metadata": {
    "ExecuteTime": {
     "end_time": "2025-04-21T18:20:11.438008Z",
     "start_time": "2025-04-21T18:20:11.432603Z"
    }
   },
   "source": [
    "ideal_population = sum(initial_partition[\"population\"].values()) / len(initial_partition)"
   ],
   "outputs": [],
   "execution_count": 58
  },
  {
   "cell_type": "code",
   "metadata": {
    "ExecuteTime": {
     "end_time": "2025-04-21T18:21:30.669923Z",
     "start_time": "2025-04-21T18:21:30.667225Z"
    }
   },
   "source": [
    "proposal = partial(recom,\n",
    "                   pop_col=\"TOTPOP\",\n",
    "                   pop_target=ideal_population,\n",
    "                   epsilon=0.10,\n",
    "                   node_repeats=2\n",
    "                   )"
   ],
   "outputs": [],
   "execution_count": 67
  },
  {
   "cell_type": "code",
   "metadata": {
    "ExecuteTime": {
     "end_time": "2025-04-21T18:21:31.958656Z",
     "start_time": "2025-04-21T18:21:31.955440Z"
    }
   },
   "source": [
    "compactness_bound = constraints.UpperBound(\n",
    "\tlambda p: len(p[\"cut_edges\"]),\n",
    "\t2*len(initial_partition[\"cut_edges\"])\n",
    ")"
   ],
   "outputs": [],
   "execution_count": 68
  },
  {
   "cell_type": "code",
   "metadata": {
    "ExecuteTime": {
     "end_time": "2025-04-21T18:21:43.747959Z",
     "start_time": "2025-04-21T18:21:43.745425Z"
    }
   },
   "source": "pop_constraint = constraints.within_percent_of_ideal_population(initial_partition, 0.12)",
   "outputs": [],
   "execution_count": 72
  },
  {
   "cell_type": "code",
   "metadata": {
    "ExecuteTime": {
     "end_time": "2025-04-21T18:21:44.695544Z",
     "start_time": "2025-04-21T18:21:44.693037Z"
    }
   },
   "source": [
    "chain = MarkovChain(\n",
    "\tproposal=proposal,\n",
    "\tconstraints=[\n",
    "\t\tpop_constraint,\n",
    "\t\tcompactness_bound\n",
    "\t],\n",
    "\taccept=accept.always_accept,\n",
    "\tinitial_state=initial_partition,\n",
    "\ttotal_steps=total_steps_in_run\n",
    ")"
   ],
   "outputs": [],
   "execution_count": 73
  },
  {
   "cell_type": "markdown",
   "metadata": {},
   "source": [
    "## Signature of Gerrymandering\n",
    "\n",
    "We will use the dataframe below to get `signature of gerrymandering'<br>\n",
    "Much of this was taken from [https://gerrychain.readthedocs.io/en/latest/user/recom/#a-real-world-example](https://gerrychain.readthedocs.io/en/latest/user/recom/#a-real-world-example)"
   ]
  },
  {
   "cell_type": "code",
   "metadata": {
    "ExecuteTime": {
     "end_time": "2025-04-21T18:22:29.048534Z",
     "start_time": "2025-04-21T18:22:28.599618Z"
    }
   },
   "source": [
    "data = pd.DataFrame(\n",
    "\tsorted(partition[\"Pres_2020\"].percents(\"Democratic\"))\n",
    "\tfor partition in chain.with_progress_bar()\n",
    ")"
   ],
   "outputs": [
    {
     "name": "stderr",
     "output_type": "stream",
     "text": [
      "C:\\Users\\Paul Maresquier\\Documents\\School\\CS 464\\NMHouse\\.venv\\Lib\\site-packages\\tqdm\\auto.py:21: TqdmWarning: IProgress not found. Please update jupyter and ipywidgets. See https://ipywidgets.readthedocs.io/en/stable/user_install.html\n",
      "  from .autonotebook import tqdm as notebook_tqdm\n",
      "100%|██████████| 100/100 [00:00<00:00, 242.95it/s]\n"
     ]
    }
   ],
   "execution_count": 74
  },
  {
   "cell_type": "code",
   "metadata": {
    "ExecuteTime": {
     "end_time": "2025-04-21T18:24:50.102286Z",
     "start_time": "2025-04-21T18:24:49.724811Z"
    }
   },
   "source": [
    "fig, ax = plt.subplots(figsize=(8, 6))\n",
    "\n",
    "# Draw 50% line\n",
    "ax.axhline(0.5, color=\"#cccccc\")\n",
    "\n",
    "# Draw boxplot\n",
    "data.boxplot(ax=ax, positions=range(len(data.columns)))\n",
    "\n",
    "# Draw initial plan's Democratic vote %s (.iloc[0] gives the first row, which corresponds to the initial plan)\n",
    "plt.plot(data.iloc[0], \"ro\")\n",
    "\n",
    "# Annotate\n",
    "ax.set_title(\"Comparing the 2021 plan to an ensemble\")\n",
    "ax.set_ylabel(\"Democratic vote % (President 2020)\")\n",
    "ax.set_xlabel(\"Sorted districts\")\n",
    "ax.set_ylim(0.25, 1)\n",
    "ax.set_yticks([0.0, 0.1, 0.2, 0.3, 0.4, 0.5, 0.6, 0.7, 0.8, 0.9, 1])\n",
    "plt.savefig('NMbox_plotPres2020.png')\n",
    "plt.show()"
   ],
   "outputs": [
    {
     "data": {
      "text/plain": [
       "<Figure size 800x600 with 1 Axes>"
      ],
      "image/png": "[encoded data removed]"
     },
     "metadata": {},
     "output_type": "display_data"
    }
   ],
   "execution_count": 77
  },
  {
   "cell_type": "markdown",
   "metadata": {},
   "source": [
    "## Creating output files\n",
    "\n",
    "Here we'll create some output files for each of our maps. <br>\n",
    "For each graph, we have one csv with the partisan (election outcome) data, and one csv with the district dual graph data. <br>\n",
    "We're also outputting the map every 100 steps."
   ]
  },
  {
   "cell_type": "code",
   "metadata": {
    "ExecuteTime": {
     "end_time": "2025-04-21T18:25:58.807360Z",
     "start_time": "2025-04-21T18:25:57.873390Z"
    }
   },
   "source": "df=gpd.read_file(\"./NM/NM.shp\")",
   "outputs": [],
   "execution_count": 78
  },
  {
   "cell_type": "code",
   "metadata": {
    "ExecuteTime": {
     "end_time": "2025-04-21T18:37:43.925350Z",
     "start_time": "2025-04-21T18:37:43.922347Z"
    }
   },
   "source": [
    "index_output_file = outdir + \"index.csv\"\n",
    "print(index_output_file)"
   ],
   "outputs": [
    {
     "name": "stdout",
     "output_type": "stream",
     "text": [
      "./NM_recom/index.csv\n"
     ]
    }
   ],
   "execution_count": 97
  },
  {
   "cell_type": "code",
   "metadata": {
    "ExecuteTime": {
     "end_time": "2025-04-21T18:38:43.737007Z",
     "start_time": "2025-04-21T18:38:39.935545Z"
    }
   },
   "source": [
    "with open(index_output_file, mode='w') as index_file:\n",
    "\tindex_writer = csv.writer(index_file, delimiter=',', quotechar='\"', quoting=csv.QUOTE_MINIMAL)\n",
    "\n",
    "\t#Run through chain, building \n",
    "\tfor t, part in enumerate(chain):\n",
    "\t\tif t%save_district_graph_mod==0:\n",
    "\t\t\ttmp_str=str(t)\n",
    "\t\t\tfile_prefix=tmp_str.rjust(8,'0')\n",
    "\t\n",
    "\t\t\t#Add file names to index file            \n",
    "\t\t\tedges_output_file = outdir + file_prefix + \"_edges.csv\"\n",
    "\t\t\tdistricts_output_file = outdir + file_prefix + \"_districts.csv\"\n",
    "\t\t\tindex_writer.writerow([\"./\" + file_prefix + \"_districts.csv\", \"./\" + file_prefix + \"_edges.csv\"])\n",
    "\t\n",
    "\t\n",
    "\t\t\t#Build the district graph and write edges to file    \n",
    "\t\t\ts=set()\n",
    "\t\t\tfor e in part[\"cut_edges\"]:\n",
    "\t\t\t\ts.add( (part.assignment[e[0]],part.assignment[e[1]] ))\n",
    "\t\t\t\t#s.add( (e[0],e[1]) )\n",
    "\t\n",
    "\t\t\twith open(edges_output_file, mode='w') as edges_file:\n",
    "\t\t\t\tedges_writer = csv.writer(edges_file, delimiter=',', quotechar='\"', quoting=csv.QUOTE_MINIMAL)\n",
    "\t\n",
    "\t\t\t\tfor e1 in s:\n",
    "\t\t\t\t\tedges_writer.writerow([e1[0],e1[1]])\n",
    "\t\n",
    "\t\n",
    "\t\t\t#Build the district file that contains election results\n",
    "\t\t\tD_votes = part[\"Pres_2020\"].votes(\"Democratic\")\n",
    "\t\t\tR_votes = part[\"Pres_2020\"].votes(\"Republican\")\n",
    "\t\n",
    "\t\t\twith open(districts_output_file, mode='w') as districts_file:\n",
    "\t\t\t\tdistricts_writer = csv.writer(districts_file, delimiter=',', quotechar='\"', quoting=csv.QUOTE_MINIMAL)\n",
    "\t\n",
    "\t\t\t\tfor i in range(len(D_votes)):\n",
    "\t\t\t\t\tdistricts_writer.writerow([i+1, int(D_votes[i]),int(R_votes[i]),0])\n",
    "\t\n",
    "\t\tif t%save_district_plot_mod==0 or t == len(chain):\n",
    "\t\t\tdf.plot(pd.Series([part.assignment[i] for i in df.index]), cmap=\"tab20\", figsize=(16,8))\n",
    "\t\t\t#plt.show()\n",
    "\t\t\tplot_output_file = outdir + file_prefix + \"_plot.png\"\n",
    "\t\t\tprint(plot_output_file)\n",
    "\t\t\tplt.savefig(plot_output_file)\n",
    "\t\t\tplt.close()\n",
    "\n"
   ],
   "outputs": [
    {
     "name": "stdout",
     "output_type": "stream",
     "text": [
      "./NM_recom/00000000_plot.png\n",
      "./NM_recom/00000010_plot.png\n",
      "./NM_recom/00000020_plot.png\n",
      "./NM_recom/00000030_plot.png\n",
      "./NM_recom/00000040_plot.png\n",
      "./NM_recom/00000050_plot.png\n",
      "./NM_recom/00000060_plot.png\n",
      "./NM_recom/00000070_plot.png\n",
      "./NM_recom/00000080_plot.png\n",
      "./NM_recom/00000090_plot.png\n"
     ]
    }
   ],
   "execution_count": 99
  },
  {
   "cell_type": "markdown",
   "metadata": {},
   "source": [
    "And if you want to find the total time:"
   ]
  },
  {
   "cell_type": "code",
   "execution_count": 33,
   "metadata": {},
   "outputs": [
    {
     "name": "stdout",
     "output_type": "stream",
     "text": [
      "\n",
      "End date and time :  2024-12-16 13:38:31\n",
      "\n",
      "Total time:  0:01:25.278576\n"
     ]
    }
   ],
   "source": [
    "endrun = datetime.datetime.now()\n",
    "print (\"\\nEnd date and time : \", endrun.strftime(\"%Y-%m-%d %H:%M:%S\"))\n",
    "\n",
    "\n",
    "diff=endrun-beginrun\n",
    "print(\"\\nTotal time: \", str(diff))"
   ]
  },
  {
   "cell_type": "code",
   "execution_count": null,
   "metadata": {},
   "outputs": [],
   "source": []
  }
 ],
 "metadata": {
  "kernelspec": {
   "display_name": "gerry",
   "language": "python",
   "name": "python3"
  },
  "language_info": {
   "codemirror_mode": {
    "name": "ipython",
    "version": 3
   },
   "file_extension": ".py",
   "mimetype": "text/x-python",
   "name": "python",
   "nbconvert_exporter": "python",
   "pygments_lexer": "ipython3",
   "version": "3.11.4"
  }
 },
 "nbformat": 4,
 "nbformat_minor": 4
}
