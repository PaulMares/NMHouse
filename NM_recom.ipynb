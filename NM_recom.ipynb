{
 "cells": [
  {
   "cell_type": "markdown",
   "metadata": {},
   "source": [
    "#ReCom Chain\n",
    "\n"
   ]
  },
  {
   "cell_type": "code",
   "execution_count": 183,
   "metadata": {},
   "outputs": [],
   "source": [
    "import random\n",
    "random.seed(12345678)"
   ]
  },
  {
   "cell_type": "code",
   "execution_count": 184,
   "metadata": {},
   "outputs": [],
   "source": [
    "import matplotlib.pyplot as plt\n",
    "from gerrychain import (GeographicPartition, Partition, Graph, MarkovChain,\n",
    "                        proposals, updaters, constraints, accept, Election)\n",
    "from gerrychain.proposals import recom\n",
    "from functools import partial\n",
    "import pandas as pd\n",
    "import geopandas as gpd\n",
    "import csv\n",
    "import os\n",
    "import datetime  #For keeping track of runtime\n",
    "import tqdm # for progress bar"
   ]
  },
  {
   "cell_type": "markdown",
   "metadata": {},
   "source": [
    "Adding time information can help you know how long you might need to run a longer chain.  It's not so useful for a jupyter notebook, but you may want to use it in your project."
   ]
  },
  {
   "cell_type": "code",
   "execution_count": 185,
   "metadata": {},
   "outputs": [
    {
     "name": "stdout",
     "output_type": "stream",
     "text": [
      "\n",
      "Begin date and time :  2025-04-21 11:26:00\n"
     ]
    }
   ],
   "source": [
    "beginrun = datetime.datetime.now()\n",
    "print (\"\\nBegin date and time : \", beginrun.strftime(\"%Y-%m-%d %H:%M:%S\"))"
   ]
  },
  {
   "cell_type": "markdown",
   "metadata": {},
   "source": [
    "We can create files for later analyses, if desired. <br>\n",
    "I'll create files and put them in this directory:"
   ]
  },
  {
   "cell_type": "code",
   "execution_count": 186,
   "metadata": {},
   "outputs": [],
   "source": [
    "outdir=\"./NM_recom/\""
   ]
  },
  {
   "cell_type": "markdown",
   "metadata": {},
   "source": [
    "Here are some parameters that we can change later if we'd like. <br>\n",
    "```save_district_plot_mod``` determines which plots (maps) we'll save."
   ]
  },
  {
   "cell_type": "code",
   "execution_count": 187,
   "metadata": {},
   "outputs": [],
   "source": [
    "total_steps_in_run=100\n",
    "save_district_graph_mod=1\n",
    "save_district_plot_mod=100"
   ]
  },
  {
   "cell_type": "code",
   "execution_count": 188,
   "metadata": {},
   "outputs": [
    {
     "name": "stdout",
     "output_type": "stream",
     "text": [
      "['boundary_node', 'area', 'STATEFP', 'COUNTYFP', 'COUNTYNAME', 'VTDST', 'NAME', 'G20PRED', 'G20PRER', 'G20SACDIVE', 'G20SACRJOH', 'G20SACDHEN', 'G20SACRLEE', 'G20SACLCUR', 'G20SACDYOH', 'G20SACRMON', 'TOTPOP', 'HISP', 'NH_WHITE', 'NH_BLACK', 'NH_AMIN', 'NH_ASIAN', 'NH_NHPI', 'NH_OTHER', 'NH_2MORE', 'VAP', 'HVAP', 'WVAP', 'BVAP', 'AMINVAP', 'ASIANVAP', 'NHPIVAP', 'OTHERVAP', '2MOREVAP', 'G18USSD', 'G18USSR', 'G18GOVD', 'G18GOVR', 'G18SOSD', 'G18SOSR', 'G18TRED', 'G18TRER', 'G18ATGD', 'G18ATGR', 'G18AUDD', 'G18AUDR', 'G18LNDD', 'G18LNDR', 'SACD', 'geometry']\n"
     ]
    }
   ],
   "source": [
    "os.makedirs(outdir, exist_ok=True)\n",
    "graph = Graph.from_file(\"NM/NM.shp\")\n",
    "\n",
    "first_node = list(graph.nodes)[0]\n",
    "\n",
    "# Get all the column names / attribute keys\n",
    "print(list(graph.nodes[first_node].keys()))\n",
    "\n",
    "\n",
    "\n"
   ]
  },
  {
   "cell_type": "markdown",
   "metadata": {},
   "source": [
    "These are the elections we have available:"
   ]
  },
  {
   "cell_type": "code",
   "execution_count": 189,
   "metadata": {},
   "outputs": [],
   "source": [
    "elections = [\n",
    "    Election(\"US_Sen_2018\", {\"Democratic\": \"G18USSD\", \"Republican\": \"G18USSR\"}),\n",
    "    Election(\"Governor_2018\", {\"Democratic\": \"G18GOVD\", \"Republican\": \"G18GOVR\"}),\n",
    "    Election(\"Pres_2020\", {\"Democratic\": \"G20PRED\", \"Republican\": \"G20PRER\"}),\n",
    "    Election(\"SoS_2018\", {\"Democratic\": \"G18SOSD\", \"Republican\": \"G18SOSR\"}),\n",
    "    Election(\"Treasurer_2018\", {\"Democratic\": \"G18TRED\", \"Republican\": \"G18TRER\"}),\n",
    "    Election(\"AG_2018\", {\"Democratic\": \"G18ATGD\", \"Republican\": \"G18ATGR\"}),\n",
    "    Election(\"Auditor_2018\", {\"Democratic\": \"G18AUDD\", \"Republican\": \"G18AUDR\"}),\n",
    "    Election(\"LandComm_2018\", {\"Democratic\": \"G18LNDD\", \"Republican\": \"G18LNDR\"})\n",
    "]"
   ]
  },
  {
   "cell_type": "markdown",
   "metadata": {},
   "source": [
    "Remember the population updater is for computing how close to equality the district populations are. <br>\n",
    "\"TOT_POP\" is the population column from our shapefile."
   ]
  },
  {
   "cell_type": "code",
   "execution_count": 190,
   "metadata": {},
   "outputs": [],
   "source": [
    "my_updaters = {\"population\": updaters.Tally(\"TOTPOP\", alias=\"population\")}"
   ]
  },
  {
   "cell_type": "markdown",
   "metadata": {},
   "source": [
    "Election updaters, for computing election results using the vote totals from our shapefile."
   ]
  },
  {
   "cell_type": "code",
   "execution_count": 191,
   "metadata": {},
   "outputs": [],
   "source": [
    "election_updaters = {election.name: election for election in elections}\n",
    "my_updaters.update(election_updaters)"
   ]
  },
  {
   "cell_type": "code",
   "execution_count": 192,
   "metadata": {},
   "outputs": [],
   "source": [
    "initial_partition = GeographicPartition(graph, \n",
    "                                        assignment= \"SACD\",   \n",
    "                                        updaters=my_updaters)\n"
   ]
  },
  {
   "cell_type": "markdown",
   "metadata": {},
   "source": [
    "The ReCom proposal needs to know the ideal population for the districts so that we can improve speed by bailing early on unbalanced partitions."
   ]
  },
  {
   "cell_type": "code",
   "execution_count": 193,
   "metadata": {},
   "outputs": [],
   "source": [
    "ideal_population = sum(initial_partition[\"population\"].values()) / len(initial_partition)"
   ]
  },
  {
   "cell_type": "code",
   "execution_count": 194,
   "metadata": {},
   "outputs": [],
   "source": [
    "proposal = partial(recom,\n",
    "                   pop_col=\"TOTPOP\",\n",
    "                   pop_target=ideal_population,\n",
    "                   epsilon=0.15,\n",
    "                   node_repeats=2\n",
    "                  )"
   ]
  },
  {
   "cell_type": "code",
   "execution_count": 195,
   "metadata": {},
   "outputs": [],
   "source": [
    "compactness_bound = constraints.UpperBound(\n",
    "    lambda p: len(p[\"cut_edges\"]),\n",
    "    2*len(initial_partition[\"cut_edges\"])\n",
    ")"
   ]
  },
  {
   "cell_type": "code",
   "execution_count": 196,
   "metadata": {},
   "outputs": [],
   "source": [
    "pop_constraint = constraints.within_percent_of_ideal_population(initial_partition, 0.12)"
   ]
  },
  {
   "cell_type": "code",
   "execution_count": 197,
   "metadata": {},
   "outputs": [],
   "source": [
    "chain = MarkovChain(\n",
    "    proposal=proposal,\n",
    "    constraints=[\n",
    "        pop_constraint,\n",
    "        compactness_bound\n",
    "    ],\n",
    "    accept=accept.always_accept,\n",
    "    initial_state=initial_partition,\n",
    "    total_steps=total_steps_in_run\n",
    "    )"
   ]
  },
  {
   "cell_type": "markdown",
   "metadata": {},
   "source": [
    "## Signature of Gerrymandering\n",
    "\n",
    "We will use the dataframe below to get `signature of gerrymandering'<br>\n",
    "Much of this was taken from [https://gerrychain.readthedocs.io/en/latest/user/recom/#a-real-world-example](https://gerrychain.readthedocs.io/en/latest/user/recom/#a-real-world-example)"
   ]
  },
  {
   "cell_type": "code",
   "execution_count": 198,
   "metadata": {},
   "outputs": [
    {
     "name": "stderr",
     "output_type": "stream",
     "text": [
      "100%|██████████| 100/100 [00:00<00:00, 230.09it/s]\n"
     ]
    }
   ],
   "source": [
    "data = pd.DataFrame(\n",
    "    sorted(partition[\"Pres_2020\"].percents(\"Democratic\"))\n",
    "    for partition in chain.with_progress_bar()\n",
    ")"
   ]
  },
  {
   "cell_type": "code",
   "execution_count": 199,
   "metadata": {},
   "outputs": [
    {
     "data": {
      "image/png": "[encoded data removed]",
      "text/plain": [
       "<Figure size 800x600 with 1 Axes>"
      ]
     },
     "metadata": {},
     "output_type": "display_data"
    }
   ],
   "source": [
    "fig, ax = plt.subplots(figsize=(8, 6))\n",
    "\n",
    "# Draw 50% line\n",
    "ax.axhline(0.5, color=\"#cccccc\")\n",
    "\n",
    "# Draw boxplot\n",
    "data.boxplot(ax=ax, positions=range(len(data.columns)))\n",
    "\n",
    "# Draw initial plan's Democratic vote %s (.iloc[0] gives the first row, which corresponds to the initial plan)\n",
    "plt.plot(data.iloc[0], \"ro\")\n",
    "\n",
    "# Annotate\n",
    "ax.set_title(\"Comparing the 2011 plan to an ensemble\")\n",
    "ax.set_ylabel(\"Democratic vote % (Senate 2016)\")\n",
    "ax.set_xlabel(\"Sorted districts\")\n",
    "ax.set_ylim(0.25, 1)\n",
    "ax.set_yticks([0.3, 0.4, 0.5, 0.6, 0.7, 0.8, 0.9, 1])\n",
    "plt.savefig('NMbox_plotSen2016.png')\n",
    "plt.show()"
   ]
  },
  {
   "cell_type": "markdown",
   "metadata": {},
   "source": [
    "## Creating output files\n",
    "\n",
    "Here we'll create some output files for each of our maps. <br>\n",
    "For each graph, we have one csv with the partisan (election outcome) data, and one csv with the district dual graph data. <br>\n",
    "We're also outputting the map every 100 steps."
   ]
  },
  {
   "cell_type": "code",
   "execution_count": 200,
   "metadata": {},
   "outputs": [],
   "source": [
    "df=gpd.read_file(\"./NM/NM.shp\")"
   ]
  },
  {
   "cell_type": "code",
   "execution_count": 201,
   "metadata": {},
   "outputs": [],
   "source": [
    "index_output_file = outdir + \"_index.csv\""
   ]
  },
  {
   "cell_type": "code",
   "execution_count": 202,
   "metadata": {},
   "outputs": [],
   "source": [
    "with open(index_output_file, mode='w') as index_file:\n",
    "    index_writer = csv.writer(index_file, delimiter=',', quotechar='\"', quoting=csv.QUOTE_MINIMAL)\n",
    "    \n",
    "    #Run through chain, building \n",
    "    for t, part in enumerate(chain):\n",
    "        if t%save_district_graph_mod==0:\n",
    "            tmp_str=str(t)\n",
    "            file_prefix=tmp_str.rjust(8,'0')\n",
    "            \n",
    "            #Add file names to index file            \n",
    "            edges_output_file = outdir + file_prefix + \"_edges.csv\"\n",
    "            districts_output_file = outdir + file_prefix + \"_districts.csv\"            \n",
    "            index_writer.writerow([\"./\" + file_prefix + \"_districts.csv\", \"./\" + file_prefix + \"_edges.csv\"])\n",
    "                        \n",
    "\n",
    "            #Build the district graph and write edges to file    \n",
    "            s=set()\n",
    "            for e in part[\"cut_edges\"]:\n",
    "                s.add( (part.assignment[e[0]],part.assignment[e[1]] ))\n",
    "                #s.add( (e[0],e[1]) )\n",
    "                \n",
    "            with open(edges_output_file, mode='w') as edges_file:\n",
    "                edges_writer = csv.writer(edges_file, delimiter=',', quotechar='\"', quoting=csv.QUOTE_MINIMAL)\n",
    "        \n",
    "                for e1 in s:\n",
    "                    edges_writer.writerow([e1[0],e1[1]])\n",
    "               \n",
    "            \n",
    "            #Build the district file that contains election results\n",
    "            D_votes = part[\"Pres_2020\"].votes(\"Democratic\") \n",
    "            R_votes = part[\"Pres_2020\"].votes(\"Republican\") \n",
    "           \n",
    "            with open(districts_output_file, mode='w') as districts_file:            \n",
    "                districts_writer = csv.writer(districts_file, delimiter=',', quotechar='\"', quoting=csv.QUOTE_MINIMAL)\n",
    "        \n",
    "                for i in range(len(D_votes)):\n",
    "                    districts_writer.writerow([i+1, int(D_votes[i]),int(R_votes[i]),0])\n",
    "             \n",
    "        if t%save_district_plot_mod==0:\n",
    "            df.plot(pd.Series([part.assignment[i] for i in df.index]), cmap=\"tab20\", figsize=(16,8))\n",
    "            #plt.show()\n",
    "            plot_output_file = outdir + file_prefix + \"_plot.png\"\n",
    "            plt.savefig(plot_output_file)\n",
    "            plt.close()\n",
    "    \n",
    "            "
   ]
  },
  {
   "cell_type": "markdown",
   "metadata": {},
   "source": [
    "And if you want to find the total time:"
   ]
  },
  {
   "cell_type": "code",
   "execution_count": 203,
   "metadata": {},
   "outputs": [
    {
     "name": "stdout",
     "output_type": "stream",
     "text": [
      "\n",
      "End date and time :  2025-04-21 11:26:15\n",
      "\n",
      "Total time:  0:00:15.036565\n"
     ]
    }
   ],
   "source": [
    "endrun = datetime.datetime.now()\n",
    "print (\"\\nEnd date and time : \", endrun.strftime(\"%Y-%m-%d %H:%M:%S\"))\n",
    "\n",
    "    \n",
    "diff=endrun-beginrun\n",
    "print(\"\\nTotal time: \", str(diff))"
   ]
  },
  {
   "cell_type": "code",
   "execution_count": null,
   "metadata": {},
   "outputs": [],
   "source": []
  }
 ],
 "metadata": {
  "kernelspec": {
   "display_name": "gerry",
   "language": "python",
   "name": "python3"
  },
  "language_info": {
   "codemirror_mode": {
    "name": "ipython",
    "version": 3
   },
   "file_extension": ".py",
   "mimetype": "text/x-python",
   "name": "python",
   "nbconvert_exporter": "python",
   "pygments_lexer": "ipython3",
   "version": "3.11.4"
  }
 },
 "nbformat": 4,
 "nbformat_minor": 4
}
