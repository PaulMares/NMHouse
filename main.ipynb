{
 "cells": [
  {
   "cell_type": "markdown",
   "metadata": {},
   "source": [
    "@author: Ivan + Paul\n"
   ]
  },
  {
   "cell_type": "code",
   "execution_count": 4,
   "metadata": {},
   "outputs": [],
   "source": [
    "import pandas as pd\n",
    "import geopandas as gpd\n",
    "import maup\n",
    "from maup import smart_repair\n",
    "import time\n",
    "import os\n",
    "from gerrychain import Graph\n",
    "from pathlib import Path\n",
    "import matplotlib.pyplot as plt\n",
    "\n",
    "import warnings\n",
    "warnings.filterwarnings('ignore')\n"
   ]
  },
  {
   "cell_type": "code",
   "execution_count": 5,
   "metadata": {},
   "outputs": [],
   "source": [
    "\n",
    "maup.progress.enabled = True\n",
    "\n",
    "pd.options.mode.chained_assignment = None\n",
    "pd.set_option('display.max_columns', None)\n",
    "#add the path to the var containing the shapefiles\n",
    "shapefile_path1 = \"./nm_vest_20/nm_vest_20.shp\" \n",
    "shapefile_path2 = \"./nm_pl2020_b/nm_pl2020_p1_b.shp\" #Total population counts\n",
    "shapefile_path5 = \"./nm_pl2020_b/nm_pl2020_p4_b.shp\" #Hispanic/Latino population data\n",
    "shapefile_path7 = \"./nm_pl2020_cnty/nm_pl2020_cnty.shp\" #County shapefile\n",
    "#read the shapefiles\n",
    "vest20_df = gpd.read_file(shapefile_path1)\n",
    "population_df = gpd.read_file(shapefile_path2)\n",
    "vap_df = gpd.read_file(shapefile_path5)\n",
    "county_df = gpd.read_file(shapefile_path7)\n",
    "\n",
    "\n"
   ]
  },
  {
   "cell_type": "code",
   "execution_count": 6,
   "metadata": {},
   "outputs": [
    {
     "data": {
      "text/plain": [
       "Index(['ID', 'AREA', 'DISTRICT', 'MEMBERS', 'LOCKED', 'NAME', 'POPULATION',\n",
       "       'F18_POP', 'H18_POP', 'F18_AP_IND', 'NH18_WHT', 'NH18_IND', 'NH18_BLK',\n",
       "       'NH18_ASN', 'NH18_HWN', 'NH18_OTH', 'NH18_2_RAC', 'NH18_POP', 'F18_IND',\n",
       "       'HISPANIC_O', 'AP_IND', 'NH_WHT', 'NH_IND', 'NH_BLK', 'NH_ASN',\n",
       "       'NH_HWN', 'NH_OTH', 'NH_2_RACES', 'NOT_HISPAN', 'AMINDIAN',\n",
       "       'INGRP_CORR', 'DEMPERF', 'REPPERF', 'TOTALPERF', 'DPERFPRESY',\n",
       "       'RPERFPRESY', 'TPERFPRESY', 'REGDEM', 'REGREP', 'REGDTSOTH', 'REGTOTAL',\n",
       "       'IDEAL_VALU', 'DEVIATION', 'F_DEVIATIO', 'POLSBY_POP', 'F_18_POP',\n",
       "       'F_H18_POP', 'F_18_AP_IN', 'F_NH18_WHT', 'F_NH18_IND', 'F_NH18_BLK',\n",
       "       'F_NH18_ASN', 'F_NH18_HWN', 'F_NH18_OTH', 'F_NH18_2_R', 'F_NH18_POP',\n",
       "       'F_18_IND', 'F_HISPANIC', 'F_AP_IND', 'F_NH_WHT', 'F_NH_IND',\n",
       "       'F_NH_BLK', 'F_NH_ASN', 'F_NH_HWN', 'F_NH_OTH', 'F_NH_2_RAC',\n",
       "       'F_NOT_HISP', 'F_AMINDIAN', 'F_INGRP_CO', 'F_DEMPERF', 'F_REPPERF',\n",
       "       'F_DPERFPRE', 'F_RPERFPRE', 'F_REGDEM', 'F_REGREP', 'F_REGDTSOT',\n",
       "       'DISTRICT_N', 'POLSBY_PO1', 'POLSBY_PO2', 'POLSBY_PO3', 'POLSBY_PO4',\n",
       "       'FORMULA_FI', 'FORMULA_F1', 'FORMULA_F2', 'FORMULA_F3', 'FORMULA_F4',\n",
       "       'FORMULA_F5', 'FORMULA_F6', 'POLSBY_PO5', 'POLSBY_PO6', 'POLSBY_PO7',\n",
       "       'POLSBY_PO8', 'POLSBY_PO9', 'POLSBY_P10', 'REOCK', 'DISTRICT_L',\n",
       "       'geometry'],\n",
       "      dtype='object')"
      ]
     },
     "execution_count": 6,
     "metadata": {},
     "output_type": "execute_result"
    }
   ],
   "source": [
    "#read the shapefiles\n",
    "sen_df = gpd.read_file(\"./nm_sldu_adopted_2022/SD_221780.shp\")\n",
    "sen_df.columns"
   ]
  },
  {
   "cell_type": "code",
   "execution_count": 7,
   "metadata": {},
   "outputs": [
    {
     "name": "stdout",
     "output_type": "stream",
     "text": [
      "Index(['GEOID20', 'SUMLEV', 'LOGRECNO', 'GEOID', 'COUNTY', 'P0010001',\n",
      "       'P0010002', 'P0010003', 'P0010004', 'P0010005', 'P0010006', 'P0010007',\n",
      "       'P0010008', 'P0010009', 'P0010010', 'P0010011', 'P0010012', 'P0010013',\n",
      "       'P0010014', 'P0010015', 'P0010016', 'P0010017', 'P0010018', 'P0010019',\n",
      "       'P0010020', 'P0010021', 'P0010022', 'P0010023', 'P0010024', 'P0010025',\n",
      "       'P0010026', 'P0010027', 'P0010028', 'P0010029', 'P0010030', 'P0010031',\n",
      "       'P0010032', 'P0010033', 'P0010034', 'P0010035', 'P0010036', 'P0010037',\n",
      "       'P0010038', 'P0010039', 'P0010040', 'P0010041', 'P0010042', 'P0010043',\n",
      "       'P0010044', 'P0010045', 'P0010046', 'P0010047', 'P0010048', 'P0010049',\n",
      "       'P0010050', 'P0010051', 'P0010052', 'P0010053', 'P0010054', 'P0010055',\n",
      "       'P0010056', 'P0010057', 'P0010058', 'P0010059', 'P0010060', 'P0010061',\n",
      "       'P0010062', 'P0010063', 'P0010064', 'P0010065', 'P0010066', 'P0010067',\n",
      "       'P0010068', 'P0010069', 'P0010070', 'P0010071', 'geometry'],\n",
      "      dtype='object')\n",
      "Index(['GEOID20', 'SUMLEV', 'LOGRECNO', 'GEOID', 'COUNTY', 'P0040001',\n",
      "       'P0040002', 'P0040003', 'P0040004', 'P0040005', 'P0040006', 'P0040007',\n",
      "       'P0040008', 'P0040009', 'P0040010', 'P0040011', 'P0040012', 'P0040013',\n",
      "       'P0040014', 'P0040015', 'P0040016', 'P0040017', 'P0040018', 'P0040019',\n",
      "       'P0040020', 'P0040021', 'P0040022', 'P0040023', 'P0040024', 'P0040025',\n",
      "       'P0040026', 'P0040027', 'P0040028', 'P0040029', 'P0040030', 'P0040031',\n",
      "       'P0040032', 'P0040033', 'P0040034', 'P0040035', 'P0040036', 'P0040037',\n",
      "       'P0040038', 'P0040039', 'P0040040', 'P0040041', 'P0040042', 'P0040043',\n",
      "       'P0040044', 'P0040045', 'P0040046', 'P0040047', 'P0040048', 'P0040049',\n",
      "       'P0040050', 'P0040051', 'P0040052', 'P0040053', 'P0040054', 'P0040055',\n",
      "       'P0040056', 'P0040057', 'P0040058', 'P0040059', 'P0040060', 'P0040061',\n",
      "       'P0040062', 'P0040063', 'P0040064', 'P0040065', 'P0040066', 'P0040067',\n",
      "       'P0040068', 'P0040069', 'P0040070', 'P0040071', 'P0040072', 'P0040073',\n",
      "       'geometry'],\n",
      "      dtype='object')\n",
      "Index(['STATEFP', 'COUNTYFP', 'COUNTYNAME', 'VTDST', 'NAME', 'G20PREDBID',\n",
      "       'G20PRERTRU', 'G20PRELJOR', 'G20PREGHAW', 'G20PRECTIT', 'G20PRESLAR',\n",
      "       'G20USSDLUJ', 'G20USSRRON', 'G20USSLWAL', 'G20SSCDBAC', 'G20SSCRFUL',\n",
      "       'G20SSCDTHO', 'G20SSCRMOR', 'G20SACDIVE', 'G20SACRJOH', 'G20SACDHEN',\n",
      "       'G20SACRLEE', 'G20SACLCUR', 'G20SACDYOH', 'G20SACRMON', 'geometry'],\n",
      "      dtype='object')\n",
      "Index(['STATEFP20', 'COUNTYFP20', 'COUNTYNS20', 'GEOID20', 'NAME20',\n",
      "       'NAMELSAD20', 'LSAD20', 'CLASSFP20', 'MTFCC20', 'CSAFP20',\n",
      "       ...\n",
      "       'P0050002', 'P0050003', 'P0050004', 'P0050005', 'P0050006', 'P0050007',\n",
      "       'P0050008', 'P0050009', 'P0050010', 'geometry'],\n",
      "      dtype='object', length=348)\n"
     ]
    }
   ],
   "source": [
    "print(population_df.columns)\n",
    "print(vap_df.columns)\n",
    "print(vest20_df.columns)\n",
    "print(county_df.columns)\n",
    "\n"
   ]
  },
  {
   "cell_type": "code",
   "execution_count": 8,
   "metadata": {},
   "outputs": [],
   "source": [
    "#Check the CRS of the shapefiles\n",
    "population_df = population_df.to_crs(population_df.estimate_utm_crs())\n",
    "vap_df = vap_df.to_crs(vap_df.estimate_utm_crs())\n",
    "county_df = county_df.to_crs(county_df.estimate_utm_crs())\n",
    "vest20_df = vest20_df.to_crs(vest20_df.estimate_utm_crs())\n"
   ]
  },
  {
   "cell_type": "code",
   "execution_count": 9,
   "metadata": {},
   "outputs": [
    {
     "name": "stderr",
     "output_type": "stream",
     "text": [
      "100%|██████████| 42/42 [00:00<00:00, 71.95it/s] \n"
     ]
    },
    {
     "data": {
      "text/plain": [
       "True"
      ]
     },
     "execution_count": 9,
     "metadata": {},
     "output_type": "execute_result"
    }
   ],
   "source": [
    "sen_df = sen_df.to_crs(sen_df.estimate_utm_crs())\n",
    "maup.doctor(sen_df)\n"
   ]
  },
  {
   "cell_type": "code",
   "execution_count": 10,
   "metadata": {},
   "outputs": [
    {
     "name": "stderr",
     "output_type": "stream",
     "text": [
      "100%|██████████| 107215/107215 [01:16<00:00, 1396.57it/s]\n"
     ]
    },
    {
     "data": {
      "text/plain": [
       "True"
      ]
     },
     "execution_count": 10,
     "metadata": {},
     "output_type": "execute_result"
    }
   ],
   "source": [
    "maup.doctor(population_df)"
   ]
  },
  {
   "cell_type": "code",
   "execution_count": 11,
   "metadata": {},
   "outputs": [
    {
     "name": "stderr",
     "output_type": "stream",
     "text": [
      "100%|██████████| 107215/107215 [01:12<00:00, 1480.20it/s]\n"
     ]
    },
    {
     "data": {
      "text/plain": [
       "True"
      ]
     },
     "execution_count": 11,
     "metadata": {},
     "output_type": "execute_result"
    }
   ],
   "source": [
    "maup.doctor(vap_df)"
   ]
  },
  {
   "cell_type": "code",
   "execution_count": 12,
   "metadata": {},
   "outputs": [
    {
     "name": "stderr",
     "output_type": "stream",
     "text": [
      "100%|██████████| 33/33 [00:00<00:00, 289.30it/s]\n"
     ]
    },
    {
     "data": {
      "text/plain": [
       "True"
      ]
     },
     "execution_count": 12,
     "metadata": {},
     "output_type": "execute_result"
    }
   ],
   "source": [
    "maup.doctor(county_df)"
   ]
  },
  {
   "cell_type": "code",
   "execution_count": 13,
   "metadata": {},
   "outputs": [
    {
     "name": "stderr",
     "output_type": "stream",
     "text": [
      "100%|██████████| 1917/1917 [00:03<00:00, 544.95it/s]\n"
     ]
    },
    {
     "name": "stdout",
     "output_type": "stream",
     "text": [
      "There are 15 overlaps.\n",
      "There are 7 holes.\n"
     ]
    },
    {
     "data": {
      "text/plain": [
       "False"
      ]
     },
     "execution_count": 13,
     "metadata": {},
     "output_type": "execute_result"
    }
   ],
   "source": [
    "maup.doctor(vest20_df)"
   ]
  },
  {
   "cell_type": "code",
   "execution_count": 14,
   "metadata": {},
   "outputs": [
    {
     "name": "stderr",
     "output_type": "stream",
     "text": [
      "100%|██████████| 33/33 [00:00<00:00, 284.25it/s]\n"
     ]
    },
    {
     "name": "stdout",
     "output_type": "stream",
     "text": [
      "Snapping all geometries to a grid with precision 10^( -5 ) to avoid GEOS errors.\n"
     ]
    },
    {
     "name": "stderr",
     "output_type": "stream",
     "text": [
      "100%|██████████| 33/33 [00:00<00:00, 474.65it/s]\n",
      "100%|██████████| 33/33 [00:00<00:00, 51.60it/s]\n"
     ]
    },
    {
     "name": "stdout",
     "output_type": "stream",
     "text": [
      "Identifying overlaps...\n"
     ]
    },
    {
     "name": "stderr",
     "output_type": "stream",
     "text": [
      "100%|██████████| 17087/17087 [00:11<00:00, 1444.15it/s]\n"
     ]
    },
    {
     "name": "stdout",
     "output_type": "stream",
     "text": [
      "Resolving overlaps and filling gaps...\n"
     ]
    },
    {
     "name": "stderr",
     "output_type": "stream",
     "text": [
      "100%|██████████| 33/33 [00:00<00:00, 543.11it/s]\n",
      "100%|██████████| 33/33 [00:00<00:00, 49.83it/s]\n",
      "Gaps to simplify in region 0: 100%|██████████| 213/213 [00:02<00:00, 79.25it/s]\n",
      "Gaps to fill in region 0: 100%|██████████| 7/7 [00:00<00:00, 30.95it/s]\n",
      "Gaps to simplify in region 1: 100%|██████████| 164/164 [00:01<00:00, 89.40it/s]\n",
      "Gaps to fill in region 1: 100%|██████████| 2/2 [00:00<00:00, 44.86it/s]\n",
      "Gaps to simplify in region 2: 100%|██████████| 397/397 [00:12<00:00, 32.09it/s]\n",
      "Gaps to fill in region 2: 100%|██████████| 21/21 [00:01<00:00, 13.93it/s]\n",
      "Gaps to simplify in region 3: 100%|██████████| 280/280 [00:08<00:00, 32.02it/s]\n",
      "Gaps to fill in region 3: 100%|██████████| 7/7 [00:00<00:00, 13.37it/s]\n",
      "Gaps to simplify in region 4: 100%|██████████| 180/180 [00:03<00:00, 55.23it/s]\n",
      "Gaps to fill in region 4: 100%|██████████| 9/9 [00:00<00:00, 24.65it/s]\n",
      "Gaps to simplify in region 5: 100%|██████████| 282/282 [00:05<00:00, 53.53it/s]\n",
      "Gaps to fill in region 5: 100%|██████████| 7/7 [00:00<00:00, 20.15it/s]\n",
      "Gaps to simplify in region 6: 100%|██████████| 183/183 [00:03<00:00, 56.45it/s]\n",
      "Gaps to fill in region 6: 100%|██████████| 5/5 [00:00<00:00, 26.45it/s]\n",
      "Gaps to simplify in region 7: 100%|██████████| 268/268 [00:09<00:00, 27.37it/s]\n",
      "Gaps to fill in region 7: 100%|██████████| 11/11 [00:00<00:00, 16.14it/s]\n",
      "Gaps to simplify in region 8: 100%|██████████| 988/988 [00:37<00:00, 26.43it/s]\n",
      "Gaps to fill in region 8: 100%|██████████| 26/26 [00:02<00:00,  9.45it/s]\n",
      "Gaps to simplify in region 9: 100%|██████████| 187/187 [00:02<00:00, 66.56it/s]\n",
      "Gaps to fill in region 9: 100%|██████████| 10/10 [00:00<00:00, 41.18it/s]\n",
      "Gaps to simplify in region 10: 100%|██████████| 326/326 [00:05<00:00, 55.12it/s]\n",
      "Gaps to fill in region 10: 100%|██████████| 8/8 [00:00<00:00, 27.93it/s]\n",
      "Gaps to simplify in region 11: 100%|██████████| 446/446 [00:10<00:00, 44.24it/s]\n",
      "Gaps to fill in region 11: 100%|██████████| 29/29 [00:01<00:00, 22.57it/s]\n",
      "Gaps to simplify in region 12: 100%|██████████| 337/337 [00:10<00:00, 31.35it/s]\n",
      "Gaps to fill in region 12: 100%|██████████| 5/5 [00:00<00:00, 13.88it/s]\n",
      "Gaps to simplify in region 13: 100%|██████████| 298/298 [00:09<00:00, 31.55it/s]\n",
      "Gaps to fill in region 13: 100%|██████████| 25/25 [00:01<00:00, 18.08it/s]\n",
      "Gaps to simplify in region 14: 100%|██████████| 572/572 [00:16<00:00, 34.43it/s]\n",
      "Gaps to fill in region 14: 100%|██████████| 4/4 [00:00<00:00, 10.98it/s]\n",
      "Gaps to simplify in region 15: 100%|██████████| 237/237 [00:02<00:00, 81.10it/s]\n",
      "Gaps to fill in region 15: 100%|██████████| 6/6 [00:00<00:00, 28.52it/s]\n",
      "Gaps to simplify in region 16: 100%|██████████| 176/176 [00:03<00:00, 52.62it/s]\n",
      "Gaps to fill in region 16: 100%|██████████| 4/4 [00:00<00:00, 21.23it/s]\n",
      "Gaps to simplify in region 17: 100%|██████████| 287/287 [00:08<00:00, 33.63it/s]\n",
      "Gaps to fill in region 17: 100%|██████████| 10/10 [00:00<00:00, 20.10it/s]\n",
      "Gaps to simplify in region 18: 100%|██████████| 346/346 [00:22<00:00, 15.27it/s]\n",
      "Gaps to fill in region 18: 100%|██████████| 6/6 [00:00<00:00,  9.36it/s]\n",
      "Gaps to simplify in region 19: 100%|██████████| 277/277 [00:05<00:00, 46.33it/s]\n",
      "Gaps to fill in region 19: 100%|██████████| 5/5 [00:00<00:00, 18.09it/s]\n",
      "Gaps to simplify in region 20: 100%|██████████| 783/783 [00:34<00:00, 22.66it/s]\n",
      "Gaps to fill in region 20: 100%|██████████| 17/17 [00:01<00:00, 10.91it/s]\n",
      "Gaps to simplify in region 21: 100%|██████████| 1043/1043 [00:48<00:00, 21.64it/s]\n",
      "Gaps to fill in region 21: 100%|██████████| 12/12 [00:01<00:00, 10.83it/s]\n",
      "Gaps to simplify in region 22: 100%|██████████| 581/581 [00:54<00:00, 10.59it/s]\n",
      "Gaps to fill in region 22: 100%|██████████| 12/12 [00:00<00:00, 14.94it/s]\n",
      "Gaps to simplify in region 23: 100%|██████████| 605/605 [00:27<00:00, 22.20it/s]\n",
      "Gaps to fill in region 23: 100%|██████████| 11/11 [00:01<00:00,  8.48it/s]\n",
      "Gaps to simplify in region 24: 100%|██████████| 384/384 [00:14<00:00, 26.39it/s]\n",
      "Gaps to fill in region 24: 100%|██████████| 16/16 [00:01<00:00, 11.04it/s]\n",
      "Gaps to simplify in region 25: 100%|██████████| 372/372 [00:07<00:00, 47.19it/s]\n",
      "Gaps to fill in region 25: 100%|██████████| 3/3 [00:00<00:00, 18.24it/s]\n",
      "Gaps to simplify in region 26: 100%|██████████| 377/377 [00:07<00:00, 49.17it/s]\n",
      "Gaps to fill in region 26: 100%|██████████| 17/17 [00:00<00:00, 21.43it/s]\n",
      "Gaps to simplify in region 27: 100%|██████████| 690/690 [00:41<00:00, 16.60it/s]\n",
      "Gaps to fill in region 27: 100%|██████████| 5/5 [00:00<00:00,  5.98it/s]\n",
      "Gaps to simplify in region 28: 100%|██████████| 226/226 [00:05<00:00, 44.93it/s]\n",
      "Gaps to fill in region 28: 100%|██████████| 4/4 [00:00<00:00, 26.91it/s]\n",
      "Gaps to simplify in region 29: 100%|██████████| 357/357 [00:08<00:00, 39.73it/s]\n",
      "Gaps to fill in region 29: 100%|██████████| 3/3 [00:00<00:00, 13.36it/s]\n",
      "Gaps to simplify in region 30: 100%|██████████| 302/302 [00:05<00:00, 55.81it/s]\n",
      "Gaps to fill in region 30: 100%|██████████| 12/12 [00:00<00:00, 25.96it/s]\n",
      "Gaps to simplify in region 31: 100%|██████████| 1187/1187 [00:51<00:00, 23.08it/s]\n",
      "Gaps to fill in region 31: 100%|██████████| 10/10 [00:00<00:00, 13.62it/s]\n",
      "Gaps to simplify in region 32: 100%|██████████| 174/174 [00:05<00:00, 34.28it/s]\n",
      "Gaps to fill in region 32: 100%|██████████| 6/6 [00:00<00:00, 16.47it/s]\n"
     ]
    }
   ],
   "source": [
    "final_df = smart_repair(vest20_df, nest_within_regions = county_df)\n"
   ]
  },
  {
   "cell_type": "code",
   "execution_count": 15,
   "metadata": {},
   "outputs": [
    {
     "name": "stdout",
     "output_type": "stream",
     "text": [
      "[0.0, 0.0, 0.0, 0.0, 0.0, 0.0, 0.0, 0.0, 0.0, 0.0, 0.0, 0.0, 0.0, 0.0, 0.0, 0.0, 0.0, 0.0, 0.0, 0.0, 0.0, 0.0, 0.0, 0.0, 0.0, 0.0, 0.0, 0.0, 0.0, 0.0, 0.0, 0.0, 0.0, 0.0, 0.0, 0.0, 0.0, 0.0, 0.0, 0.0, 0.0, 0.0, 0.0, 0.0, 0.0, 0.0, 0.0, 0.0, 0.0, 0.0, 0.0, 0.0, 0.0, 0.0, 0.0, 0.0, 0.0, 0.0, 0.0, 0.0, 0.0, 0.0, 0.0, 0.0, 0.0, 0.0, 0.0, 0.0, 0.0, 0.0, 0.0, 0.0, 0.0, 0.0, 0.0, 0.0, 0.0, 0.0, 0.0, 0.0, 0.0, 0.0, 0.0, 0.0, 0.0, 0.0, 0.0, 0.0, 0.0, 0.0, 0.0, 0.0, 0.0, 0.0, 0.0, 0.0, 0.0, 0.0, 0.0, 0.0, 0.0, 0.0, 0.0, 0.0, 0.0, 0.0, 0.0, 0.0, 0.0, 0.0, 0.0, 0.0, 0.0, 0.0, 0.0, 0.0, 0.0, 0.0, 0.0, 0.0, 0.0, 0.0, 0.0, 0.0, 0.0, 0.0, 0.0, 0.0, 0.0, 0.0, 0.0, 0.0, 0.0, 0.0, 0.0, 0.0, 0.0, 0.0, 0.0, 0.0, 0.0, 0.0, 0.0, 0.0, 0.0, 0.0, 0.0, 0.0, 0.0, 0.0, 0.0, 0.0, 0.0, 0.0, 0.0, 0.0, 0.0, 0.0, 0.0, 0.0, 0.0, 0.0, 0.0, 0.0, 0.0, 0.0, 0.0, 0.0, 0.0, 0.0, 0.0, 0.0, 0.0, 0.0, 0.0, 0.0, 0.0, 0.0, 0.0, 0.0, 0.0, 0.0, 0.0, 0.0, 0.0, 0.0, 0.0, 0.0, 0.0, 0.0, 0.0, 0.0, 0.0, 0.0, 0.0, 0.0, 0.0, 0.0, 0.0, 0.0, 0.0, 0.0, 0.0, 0.0, 0.0, 0.0, 0.0, 0.0, 0.0, 0.0, 0.0, 0.0, 0.0, 0.0, 0.0, 0.0, 0.0, 0.0, 0.0, 0.0, 0.0, 0.0, 0.0, 0.0, 0.0, 0.0, 0.0, 0.0, 0.0, 0.0, 0.0, 0.0, 0.0, 0.0, 0.0, 0.0, 0.0, 0.0, 0.0, 0.0, 0.0, 0.0, 0.0, 0.0, 0.0, 0.0, 0.0, 0.0, 0.0, 0.0, 0.0, 0.0, 0.0, 0.0, 0.0, 0.0, 0.0, 0.0, 0.0, 0.0, 0.0, 0.0, 0.0, 0.0, 0.0, 0.0, 0.0, 0.0, 0.0, 0.0, 0.0, 0.0, 0.0, 0.0, 0.0, 0.0, 0.0, 0.0, 0.0, 0.0, 0.0, 0.0, 0.0, 0.0, 0.0, 0.0, 0.0, 0.0, 0.0, 0.0, 0.0, 0.0, 0.0, 0.0, 0.0, 0.0, 0.0, 0.0, 0.0, 0.0, 0.0, 0.0, 0.0, 0.0, 0.0, 0.0, 0.0, 0.0, 0.0, 0.0, 0.0, 0.0, 0.0, 0.0, 0.0, 0.0, 0.0, 0.0, 0.0, 0.0, 0.0, 0.0, 0.0, 0.0, 0.0, 0.0, 0.0, 0.0, 0.0, 0.0, 0.0, 0.0, 0.0, 0.0, 0.0, 0.0, 0.0, 0.0, 0.0, 0.0, 0.0, 0.0, 0.0, 0.0, 0.0, 0.0, 0.0, 0.0, 0.0, 0.0, 0.0, 0.0, 0.0, 0.0, 0.0, 0.0, 0.0, 0.0, 0.0, 0.0, 0.0, 0.0, 0.0, 0.0, 0.0, 0.0, 0.0, 0.0, 0.0, 0.0, 0.0, 0.0, 0.0, 0.0, 0.0, 0.0, 0.0, 0.0, 0.0, 0.0, 0.0, 0.0, 0.0, 0.0, 0.0, 0.0, 0.0, 0.0, 0.0, 0.0, 0.0, 0.0, 0.0, 0.0, 0.0, 0.0, 0.0, 0.0, 0.0, 0.0, 0.0, 0.0, 0.0, 0.0, 0.0, 0.0, 0.0, 0.0, 0.0, 0.0, 0.0, 0.0, 0.0, 0.0, 0.0, 0.0, 0.0, 0.0, 0.0, 0.0, 0.0, 0.0, 0.0, 0.0, 0.0, 0.0, 0.0, 0.0, 0.0, 0.0, 0.0, 0.0, 0.0, 0.0, 0.0, 0.0, 0.0, 0.0, 0.0, 0.0, 0.0, 0.0, 0.0, 0.0, 0.0, 0.0, 0.0, 0.0, 0.0, 0.0, 0.0, 0.0, 0.0, 0.0, 0.0, 0.0, 0.0, 0.0, 0.0, 0.0, 0.0, 0.0, 0.0, 0.0, 0.0, 0.0, 0.0, 0.0, 0.0, 0.0, 0.0, 0.0, 0.0, 0.0, 0.0, 0.0, 0.0, 0.0, 0.0, 0.0, 0.0, 0.0, 0.0, 0.0, 0.0, 0.0, 0.0, 0.0, 0.0, 0.0, 0.0, 0.0, 0.0, 0.0, 0.0, 0.0, 0.0, 0.0, 0.0, 0.0, 0.0, 0.0, 0.0, 0.0, 0.0, 0.0, 0.0, 0.0, 0.0, 0.0, 0.0, 0.0, 0.0, 0.0, 0.0, 0.0, 0.0, 0.0, 0.0, 0.0, 0.0, 0.0, 0.0, 0.0, 0.0, 0.0, 0.0, 0.0, 0.0, 0.0, 0.0, 0.0, 0.0, 0.0, 0.0, 0.0, 0.0, 0.0, 0.0, 0.0, 0.0, 0.0, 0.0, 0.0, 0.0, 0.0, 0.0, 0.0, 0.0, 0.0, 0.0, 0.0, 0.0, 0.0, 0.0, 0.0, 0.0, 0.0, 0.0, 0.0, 0.0, 0.0, 0.0, 0.0, 0.0, 0.0, 0.0, 0.0, 0.0, 0.0, 0.0, 0.0, 0.0, 0.0, 0.0, 0.0, 0.0, 0.0, 0.0, 0.0, 0.0, 0.0, 0.0, 0.0, 0.0, 0.0, 0.0, 0.0, 0.0, 0.0, 0.0, 0.0, 0.0, 0.0, 0.0, 0.0, 0.0, 0.0, 0.0, 0.0, 0.0, 0.0, 0.0, 0.0, 0.0, 0.0, 0.0, 0.0, 0.0, 0.0, 0.0, 0.0, 0.0, 0.0, 0.0, 0.0, 0.0, 0.0, 0.0, 0.0, 0.0, 0.0, 0.0, 0.0, 0.0, 0.0, 0.0, 0.0, 0.0, 0.0, 0.0, 0.0, 0.0, 0.0, 0.0, 0.0, 0.0, 0.0, 0.0, 0.0, 0.0, 0.0, 0.0, 0.0, 0.0, 0.0, 0.0, 0.0, 0.0, 0.0, 0.0, 0.0, 0.0, 0.0, 0.0, 0.0, 0.0, 0.0, 0.0, 0.0, 0.0, 0.0, 0.0, 0.0, 0.0, 0.0, 0.0, 0.0, 0.0, 0.0, 0.0, 0.0, 0.0, 0.0, 0.0, 0.0, 0.0, 0.0, 0.0, 0.0, 0.0, 0.0, 0.0, 0.0, 0.0, 0.0, 0.0, 0.0, 0.0, 0.0, 0.0, 0.0, 0.0, 0.0, 0.0, 0.0, 0.0, 0.0, 0.0, 0.0, 0.0, 0.0, 0.0, 0.0, 0.0, 0.0, 0.0, 0.0, 0.0, 0.0, 0.0, 0.0, 0.0, 0.0, 0.0, 0.0, 0.0, 0.0, 0.0, 0.0, 0.0, 0.0, 0.0, 0.0, 0.0, 0.0, 0.0, 0.0, 0.0, 0.0, 0.0, 0.0, 0.0, 0.0, 0.0, 0.0, 0.0, 0.0, 0.0, 0.0, 0.0, 0.0, 0.0, 0.0, 0.0, 0.0, 0.0, 0.0, 0.0, 0.0, 0.0, 0.0, 0.0, 0.0, 0.0, 0.0, 0.0, 0.0, 0.0, 0.0, 0.0, 0.0, 0.0, 0.0, 0.0, 0.0, 0.0, 0.0, 0.0, 0.0, 0.0, 0.0, 0.0, 0.0, 0.0, 0.0, 0.0, 0.0, 0.0, 0.0, 0.0, 0.0, 0.0, 0.0, 0.0, 0.0, 0.0, 0.0, 0.0, 0.0, 0.0, 0.0, 0.0, 0.0, 0.0, 0.0, 0.0, 0.0, 0.0, 0.0, 0.0, 0.0, 0.0, 0.0, 0.0, 0.0, 0.0, 0.0, 0.0, 0.0, 0.0, 0.0, 0.0, 0.0, 0.0, 0.0, 0.0, 0.0, 0.0, 0.0, 0.0, 0.0, 0.0, 0.0, 0.0, 0.0, 0.0, 0.0, 0.0, 0.0, 0.0, 0.0, 0.0, 0.0, 0.0, 0.0, 0.0, 0.0, 0.0, 0.0, 0.0, 0.0, 0.0, 0.0, 0.0, 0.0, 0.0, 0.0, 0.0, 0.0, 0.0, 0.0, 0.0, 0.0, 0.0, 0.0, 0.0, 0.0, 0.0, 0.0, 0.0, 0.0, 0.0, 0.0, 0.0, 0.0, 0.0, 0.0, 0.0, 0.0, 0.0, 0.0, 0.0, 0.0, 0.0, 0.0, 0.0, 0.0, 0.0, 0.0, 0.0, 0.0, 0.0, 0.0, 0.0, 0.0, 0.0, 0.0, 0.0, 0.0, 0.0, 0.0, 0.0, 0.0, 0.0, 0.0, 0.0, 0.0, 0.0, 0.0, 0.0, 0.0, 0.0, 0.0, 0.0, 0.0, 0.0, 0.0, 0.0, 0.0, 0.0, 0.0, 0.0, 0.0, 0.0, 0.0, 0.0, 0.0, 0.0, 0.0, 0.0, 0.0, 0.0, 0.0, 0.0, 0.0, 0.0, 0.0, 0.0, 0.0, 0.0, 0.0, 0.0, 0.0, 0.0, 0.0, 0.0, 0.0, 0.0, 0.0, 0.0, 0.0, 0.0, 0.0, 0.0, 0.0, 0.0, 0.0, 0.0, 0.0, 0.0, 0.0, 0.0, 0.0, 0.0, 0.0, 0.0, 0.0, 0.0, 0.0, 0.0, 0.0, 0.0, 0.0, 0.0, 0.0, 0.0, 0.0, 0.0, 0.0, 0.0, 0.0, 0.0, 0.0, 0.0, 0.0, 0.0, 0.0, 0.0, 0.0, 0.0, 0.0, 0.0, 0.0, 0.0, 0.0, 0.0, 0.0, 0.0, 0.0, 0.0, 0.0, 0.0, 0.0, 0.0, 0.0, 0.0, 0.0, 0.0, 0.0]\n"
     ]
    }
   ],
   "source": [
    "import copy\n",
    "#copy the final_df to boundaries\n",
    "boundaries = copy.deepcopy(final_df)\n",
    "boundaries[\"geometry\"] = boundaries.geometry.boundary  # get boundaries\n",
    "neighbors = gpd.sjoin(boundaries, final_df, predicate=\"intersects\") # find boundaries that intersect\n",
    "neighbors = neighbors[neighbors.index != neighbors.index_right] # remove boundaries of a region with itself\n",
    "\n",
    "# compute shared border length using intersection\n",
    "borders = list(neighbors.apply(\n",
    "    lambda row: row.geometry.intersection(boundaries.loc[row.index_right, \"geometry\"]).length, axis=1\n",
    "))\n",
    "\n",
    "borders.sort()\n",
    "print(borders[:1000])"
   ]
  },
  {
   "cell_type": "code",
   "execution_count": 16,
   "metadata": {},
   "outputs": [
    {
     "name": "stdout",
     "output_type": "stream",
     "text": [
      "Snapping all geometries to a grid with precision 10^( -5 ) to avoid GEOS errors.\n",
      "Identifying overlaps...\n"
     ]
    },
    {
     "name": "stderr",
     "output_type": "stream",
     "text": [
      "100%|██████████| 1917/1917 [00:00<00:00, 2270.72it/s]\n"
     ]
    },
    {
     "name": "stdout",
     "output_type": "stream",
     "text": [
      "Resolving overlaps...\n",
      "Filling gaps...\n"
     ]
    },
    {
     "name": "stderr",
     "output_type": "stream",
     "text": [
      "Gaps to simplify: 0it [00:00, ?it/s]\n",
      "Gaps to fill: 0it [00:00, ?it/s]\n"
     ]
    },
    {
     "name": "stdout",
     "output_type": "stream",
     "text": [
      "Converting small rook adjacencies to queen...\n"
     ]
    },
    {
     "name": "stderr",
     "output_type": "stream",
     "text": [
      "100%|██████████| 1917/1917 [00:04<00:00, 454.23it/s]\n",
      "100%|██████████| 4/4 [00:00<00:00, 2228.64it/s]\n",
      "100%|██████████| 4/4 [00:00<00:00, 2226.87it/s]\n",
      "100%|██████████| 4/4 [00:00<00:00, 2378.40it/s]\n",
      "100%|██████████| 4/4 [00:00<00:00, 2402.24it/s]\n",
      "100%|██████████| 4/4 [00:00<00:00, 2222.15it/s]\n",
      "100%|██████████| 4/4 [00:00<00:00, 1749.63it/s]\n",
      "100%|██████████| 5/5 [00:00<00:00, 2372.88it/s]\n",
      "100%|██████████| 4/4 [00:00<00:00, 2005.17it/s]\n",
      "100%|██████████| 6/6 [00:00<00:00, 2738.39it/s]\n",
      "100%|██████████| 4/4 [00:00<00:00, 2281.99it/s]\n",
      "100%|██████████| 4/4 [00:00<00:00, 2159.51it/s]\n",
      "100%|██████████| 4/4 [00:00<00:00, 2316.34it/s]\n",
      "100%|██████████| 4/4 [00:00<00:00, 2030.40it/s]\n",
      "100%|██████████| 4/4 [00:00<00:00, 2212.48it/s]\n",
      "100%|██████████| 4/4 [00:00<00:00, 2269.95it/s]\n",
      "100%|██████████| 6/6 [00:00<00:00, 2236.37it/s]\n",
      "100%|██████████| 5/5 [00:00<00:00, 2310.40it/s]\n",
      "100%|██████████| 4/4 [00:00<00:00, 1385.97it/s]\n",
      "100%|██████████| 4/4 [00:00<00:00, 1681.25it/s]\n",
      "100%|██████████| 5/5 [00:00<00:00, 2022.52it/s]\n",
      "100%|██████████| 4/4 [00:00<00:00, 1859.80it/s]\n",
      "100%|██████████| 5/5 [00:00<00:00, 2349.49it/s]\n",
      "100%|██████████| 4/4 [00:00<00:00, 1983.12it/s]\n",
      "100%|██████████| 4/4 [00:00<00:00, 2162.29it/s]\n",
      "100%|██████████| 4/4 [00:00<00:00, 2073.57it/s]\n",
      "100%|██████████| 4/4 [00:00<00:00, 2185.67it/s]\n",
      "100%|██████████| 4/4 [00:00<00:00, 1915.64it/s]\n",
      "100%|██████████| 4/4 [00:00<00:00, 1772.37it/s]\n",
      "100%|██████████| 4/4 [00:00<00:00, 1458.76it/s]\n",
      "100%|██████████| 5/5 [00:00<00:00, 1267.70it/s]\n",
      "100%|██████████| 4/4 [00:00<00:00, 1158.49it/s]\n",
      "100%|██████████| 4/4 [00:00<00:00, 900.69it/s]\n",
      "100%|██████████| 4/4 [00:00<00:00, 366.80it/s]\n",
      "100%|██████████| 4/4 [00:00<00:00, 1210.74it/s]\n"
     ]
    }
   ],
   "source": [
    "final_df = smart_repair(final_df, min_rook_length = 30)"
   ]
  },
  {
   "cell_type": "code",
   "execution_count": null,
   "metadata": {},
   "outputs": [],
   "source": []
  },
  {
   "cell_type": "code",
   "execution_count": 17,
   "metadata": {},
   "outputs": [
    {
     "name": "stderr",
     "output_type": "stream",
     "text": [
      "100%|██████████| 1917/1917 [00:03<00:00, 495.90it/s]\n"
     ]
    },
    {
     "data": {
      "text/plain": [
       "True"
      ]
     },
     "execution_count": 17,
     "metadata": {},
     "output_type": "execute_result"
    }
   ],
   "source": [
    "maup.doctor(final_df)"
   ]
  },
  {
   "cell_type": "code",
   "execution_count": 18,
   "metadata": {},
   "outputs": [
    {
     "name": "stderr",
     "output_type": "stream",
     "text": [
      "100%|██████████| 1917/1917 [00:03<00:00, 589.57it/s]\n",
      "100%|██████████| 1917/1917 [00:18<00:00, 105.20it/s]\n",
      "100%|██████████| 1917/1917 [00:03<00:00, 602.37it/s]\n",
      "100%|██████████| 1917/1917 [00:18<00:00, 105.86it/s]\n"
     ]
    }
   ],
   "source": [
    "#Assign the precincts to the blocks\n",
    "blocks_to_precincts_assignment = maup.assign(population_df.geometry, final_df.geometry)\n",
    "vap_blocks_to_precincts_assignment = maup.assign(vap_df.geometry, final_df.geometry)"
   ]
  },
  {
   "cell_type": "code",
   "execution_count": 19,
   "metadata": {},
   "outputs": [
    {
     "data": {
      "text/plain": [
       "0          758\n",
       "1          750\n",
       "2          757\n",
       "3         1396\n",
       "4          693\n",
       "          ... \n",
       "107210     260\n",
       "107211    1883\n",
       "107212     243\n",
       "107213     502\n",
       "107214     202\n",
       "Length: 107215, dtype: int64"
      ]
     },
     "execution_count": 19,
     "metadata": {},
     "output_type": "execute_result"
    }
   ],
   "source": [
    "blocks_to_precincts_assignment"
   ]
  },
  {
   "cell_type": "code",
   "execution_count": 20,
   "metadata": {},
   "outputs": [],
   "source": [
    "pop_column_names = ['P0010001', 'P0010002', 'P0010005', 'P0010006', 'P0010007',\n",
    "                    'P0010008', 'P0010009', 'P0010010', 'P0010011']\n",
    "vap_column_names = ['P0040001', 'P0040002', 'P0040005', 'P0040006', 'P0040007',\n",
    "                    'P0040008', 'P0040009', 'P0040010', 'P0040011']\n"
   ]
  },
  {
   "cell_type": "code",
   "execution_count": 21,
   "metadata": {},
   "outputs": [],
   "source": [
    "#Sum the population and VAP data for each precinct\n",
    "for name in pop_column_names:\n",
    "    final_df[name] = population_df[name].groupby(blocks_to_precincts_assignment).sum()\n",
    "for name in vap_column_names:\n",
    "    final_df[name] = vap_df[name].groupby(vap_blocks_to_precincts_assignment).sum()"
   ]
  },
  {
   "cell_type": "code",
   "execution_count": 22,
   "metadata": {},
   "outputs": [
    {
     "name": "stdout",
     "output_type": "stream",
     "text": [
      "2117522\n",
      "2117522\n",
      "1638989\n",
      "1638989\n"
     ]
    }
   ],
   "source": [
    "print(population_df['P0010001'].sum())\n",
    "print(final_df['P0010001'].sum())\n",
    "print(vap_df['P0040001'].sum())\n",
    "print(final_df['P0040001'].sum())"
   ]
  },
  {
   "cell_type": "code",
   "execution_count": 23,
   "metadata": {},
   "outputs": [
    {
     "data": {
      "text/plain": [
       "Index(['STATEFP', 'COUNTYFP', 'COUNTYNAME', 'VTDST', 'NAME', 'G20PREDBID',\n",
       "       'G20PRERTRU', 'G20PRELJOR', 'G20PREGHAW', 'G20PRECTIT', 'G20PRESLAR',\n",
       "       'G20USSDLUJ', 'G20USSRRON', 'G20USSLWAL', 'G20SSCDBAC', 'G20SSCRFUL',\n",
       "       'G20SSCDTHO', 'G20SSCRMOR', 'G20SACDIVE', 'G20SACRJOH', 'G20SACDHEN',\n",
       "       'G20SACRLEE', 'G20SACLCUR', 'G20SACDYOH', 'G20SACRMON', 'geometry',\n",
       "       'P0010001', 'P0010002', 'P0010005', 'P0010006', 'P0010007', 'P0010008',\n",
       "       'P0010009', 'P0010010', 'P0010011', 'P0040001', 'P0040002', 'P0040005',\n",
       "       'P0040006', 'P0040007', 'P0040008', 'P0040009', 'P0040010', 'P0040011'],\n",
       "      dtype='object')"
      ]
     },
     "execution_count": 23,
     "metadata": {},
     "output_type": "execute_result"
    }
   ],
   "source": [
    "rename_dict = {'P0020001': 'TOTPOP', 'P0020002': 'HISP', 'P0020005': 'NH_WHITE', 'P0020006': 'NH_BLACK', 'P0020007': 'NH_AMIN',\n",
    "                    'P0020008': 'NH_ASIAN', 'P0020009': 'NH_NHPI', 'P0020010': 'NH_OTHER', 'P0020011': 'NH_2MORE',\n",
    "                    'P0040001': 'VAP', 'P0040002': 'HVAP', 'P0040005': 'WVAP', 'P0040006': 'BVAP', 'P0040007': 'AMINVAP',\n",
    "                                        'P0040008': 'ASIANVAP', 'P0040009': 'NHPIVAP', 'P0040010': 'OTHERVAP', 'P0040011': '2MOREVAP',\n",
    "                                        'G20PREDBID': 'G20PRED', 'G20PRERTRU': 'G20PRER', 'G20USSDHAR': 'G20USSD', \n",
    "                                        'G20USSRGRA': 'G20USSR'}\n",
    "final_df.columns"
   ]
  },
  {
   "cell_type": "code",
   "execution_count": 24,
   "metadata": {},
   "outputs": [
    {
     "data": {
      "text/plain": [
       "Index(['STATEFP', 'COUNTYFP', 'COUNTYNAME', 'VTDST', 'NAME', 'G20PRED',\n",
       "       'G20PRER', 'G20PRELJOR', 'G20PREGHAW', 'G20PRECTIT', 'G20PRESLAR',\n",
       "       'G20USSDLUJ', 'G20USSRRON', 'G20USSLWAL', 'G20SSCDBAC', 'G20SSCRFUL',\n",
       "       'G20SSCDTHO', 'G20SSCRMOR', 'G20SACDIVE', 'G20SACRJOH', 'G20SACDHEN',\n",
       "       'G20SACRLEE', 'G20SACLCUR', 'G20SACDYOH', 'G20SACRMON', 'geometry',\n",
       "       'P0010001', 'P0010002', 'P0010005', 'P0010006', 'P0010007', 'P0010008',\n",
       "       'P0010009', 'P0010010', 'P0010011', 'VAP', 'HVAP', 'WVAP', 'BVAP',\n",
       "       'AMINVAP', 'ASIANVAP', 'NHPIVAP', 'OTHERVAP', '2MOREVAP'],\n",
       "      dtype='object')"
      ]
     },
     "execution_count": 24,
     "metadata": {},
     "output_type": "execute_result"
    }
   ],
   "source": [
    "#rename the columns\n",
    "final_df.rename(columns=rename_dict, inplace = True)\n",
    "final_df.columns"
   ]
  },
  {
   "cell_type": "code",
   "execution_count": 25,
   "metadata": {},
   "outputs": [
    {
     "data": {
      "text/plain": [
       "Index(['STATEFP', 'COUNTYFP', 'COUNTYNAME', 'VTDST', 'NAME', 'G20PRED',\n",
       "       'G20PRER', 'G20PRELJOR', 'G20PREGHAW', 'G20PRECTIT', 'G20PRESLAR',\n",
       "       'G20USSDLUJ', 'G20USSRRON', 'G20USSLWAL', 'G20SSCDBAC', 'G20SSCRFUL',\n",
       "       'G20SSCDTHO', 'G20SSCRMOR', 'G20SACDIVE', 'G20SACRJOH', 'G20SACDHEN',\n",
       "       'G20SACRLEE', 'G20SACLCUR', 'G20SACDYOH', 'G20SACRMON', 'geometry',\n",
       "       'P0010001', 'P0010002', 'P0010005', 'P0010006', 'P0010007', 'P0010008',\n",
       "       'P0010009', 'P0010010', 'P0010011', 'VAP', 'HVAP', 'WVAP', 'BVAP',\n",
       "       'AMINVAP', 'ASIANVAP', 'NHPIVAP', 'OTHERVAP', '2MOREVAP'],\n",
       "      dtype='object')"
      ]
     },
     "execution_count": 25,
     "metadata": {},
     "output_type": "execute_result"
    }
   ],
   "source": [
    "#final_df.drop(columns=['G20PRELJOR', 'G20PREIPIE', 'G20PREOWRI', 'G20USSOWRI',  \n",
    "#                       'G20USSRLUM', 'G20USSDDAV', 'G20HALRCHE', 'G20HALDBUL',  \n",
    "#                       'G20HALLBRU', 'G20HALCHAG', 'G20HALOWRI'], inplace=True)\n",
    "final_df.columns\n"
   ]
  },
  {
   "cell_type": "code",
   "execution_count": 26,
   "metadata": {},
   "outputs": [],
   "source": [
    "vap_df.rename(columns=rename_dict, inplace = True)"
   ]
  },
  {
   "cell_type": "code",
   "execution_count": 32,
   "metadata": {},
   "outputs": [
    {
     "data": {
      "text/plain": [
       "Index(['STATEFP', 'COUNTYFP', 'COUNTYNAME', 'VTDST', 'NAME', 'G18USSDHEI',\n",
       "       'G18USSRRIC', 'G18USSLJOH', 'G18GOVDLUJ', 'G18GOVRPEA', 'G18ATGDBAL',\n",
       "       'G18ATGRHEN', 'G18ATGLDUN', 'G18SOSDTOU', 'G18SOSRCLA', 'G18SOSLGRI',\n",
       "       'G18TREDEIC', 'G18TRERCAS', 'G18AUDDCOL', 'G18AUDRJOH', 'G18LNDDGAR',\n",
       "       'G18LNDRLYO', 'G18LNDLLUC', 'G18SSCDVIG', 'G18SSCRCLI', 'G18SACDBOG',\n",
       "       'G18SACRFRE', 'G18SACDMED', 'G18SACRBOH', 'G18SACDZAM', 'G18SACRKIE',\n",
       "       'G18SACDDUF', 'G18SACRGAL', 'G18SACDATT', 'geometry'],\n",
       "      dtype='object')"
      ]
     },
     "execution_count": 32,
     "metadata": {},
     "output_type": "execute_result"
    }
   ],
   "source": [
    "vest18_df = gpd.read_file(\"./nm_vest_18/nm_vest_18.shp\")\n",
    "vest18_df.columns"
   ]
  },
  {
   "cell_type": "code",
   "execution_count": 33,
   "metadata": {},
   "outputs": [
    {
     "data": {
      "text/plain": [
       "Index(['STATEFP', 'COUNTYFP', 'COUNTYNAME', 'VTDST', 'NAME', 'G18USSDHEI',\n",
       "       'G18USSRRIC', 'G18USSLJOH', 'G18GOVDLUJ', 'G18GOVRPEA', 'G18ATGDBAL',\n",
       "       'G18ATGRHEN', 'G18ATGLDUN', 'G18SOSDTOU', 'G18SOSRCLA', 'G18SOSLGRI',\n",
       "       'G18TREDEIC', 'G18TRERCAS', 'G18AUDDCOL', 'G18AUDRJOH', 'G18LNDDGAR',\n",
       "       'G18LNDRLYO', 'G18LNDLLUC', 'G18SSCDVIG', 'G18SSCRCLI', 'G18SACDBOG',\n",
       "       'G18SACRFRE', 'G18SACDMED', 'G18SACRBOH', 'G18SACDZAM', 'G18SACRKIE',\n",
       "       'G18SACDDUF', 'G18SACRGAL', 'G18SACDATT', 'geometry'],\n",
       "      dtype='object')"
      ]
     },
     "execution_count": 33,
     "metadata": {},
     "output_type": "execute_result"
    }
   ],
   "source": [
    "rename_18_dict = {\n",
    "    'G18GOVDTHR': 'G18GOVD', \n",
    "    'G18GOVRGOR': 'G18GOVR', \n",
    "    'G18SOSDBYR': 'G18SOSD', \n",
    "    'G18SOSRBUC': 'G18SOSR',\n",
    "    'G18TREDLOW': 'G18TRED', \n",
    "    'G18TRERMEI': 'G18TRER', \n",
    "    'G18ATGDANA': 'G18ATGD',  \n",
    "    'G18ATGRWIL': 'G18ATGR'   \n",
    "}\n",
    "\n",
    "vest18_df.rename(columns=rename_18_dict, inplace=True)\n",
    "vest18_df.columns\n"
   ]
  },
  {
   "cell_type": "code",
   "execution_count": 35,
   "metadata": {},
   "outputs": [
    {
     "data": {
      "text/plain": [
       "Index(['STATEFP', 'COUNTYFP', 'COUNTYNAME', 'VTDST', 'NAME', 'G18USSDHEI',\n",
       "       'G18USSRRIC', 'geometry'],\n",
       "      dtype='object')"
      ]
     },
     "execution_count": 35,
     "metadata": {},
     "output_type": "execute_result"
    }
   ],
   "source": [
    "columns_to_keep = [\n",
    "    'STATEFP', 'COUNTYFP', 'COUNTYNAME', 'VTDST', 'NAME',\n",
    "    'G18USSDHEI', 'G18USSRRIC', 'geometry'\n",
    "]\n",
    "\n",
    "columns_to_drop = [col for col in vest18_df.columns if col not in columns_to_keep]\n",
    "\n",
    "vest18_df.drop(columns=columns_to_drop, inplace=True)\n",
    "vest18_df.columns\n"
   ]
  },
  {
   "cell_type": "code",
   "execution_count": 42,
   "metadata": {},
   "outputs": [],
   "source": [
    "elec2018_cols = ['STATEFP', 'COUNTYFP', 'COUNTYNAME', 'VTDST', 'NAME', 'G18USSDHEI',\n",
    "       'G18USSRRIC', 'geometry']"
   ]
  },
  {
   "cell_type": "code",
   "execution_count": 37,
   "metadata": {},
   "outputs": [
    {
     "name": "stderr",
     "output_type": "stream",
     "text": [
      "100%|██████████| 1492/1492 [00:03<00:00, 453.31it/s] \n"
     ]
    },
    {
     "data": {
      "text/plain": [
       "True"
      ]
     },
     "execution_count": 37,
     "metadata": {},
     "output_type": "execute_result"
    }
   ],
   "source": [
    "vest18_df = vest18_df.to_crs(vest18_df.estimate_utm_crs())\n",
    "maup.doctor(vest18_df)"
   ]
  },
  {
   "cell_type": "code",
   "execution_count": 38,
   "metadata": {},
   "outputs": [
    {
     "name": "stdout",
     "output_type": "stream",
     "text": [
      "Snapping all geometries to a grid with precision 10^( -5 ) to avoid GEOS errors.\n",
      "Identifying overlaps...\n"
     ]
    },
    {
     "name": "stderr",
     "output_type": "stream",
     "text": [
      "100%|██████████| 1493/1493 [00:00<00:00, 2025.34it/s]\n"
     ]
    },
    {
     "name": "stdout",
     "output_type": "stream",
     "text": [
      "Resolving overlaps...\n",
      "Filling gaps...\n"
     ]
    },
    {
     "name": "stderr",
     "output_type": "stream",
     "text": [
      "Gaps to simplify: 0it [00:00, ?it/s]\n",
      "Gaps to fill: 0it [00:00, ?it/s]\n"
     ]
    }
   ],
   "source": [
    "vest18_df = smart_repair(vest18_df)"
   ]
  },
  {
   "cell_type": "code",
   "execution_count": 39,
   "metadata": {},
   "outputs": [
    {
     "name": "stderr",
     "output_type": "stream",
     "text": [
      "100%|██████████| 1492/1492 [00:03<00:00, 471.65it/s] \n"
     ]
    },
    {
     "data": {
      "text/plain": [
       "True"
      ]
     },
     "execution_count": 39,
     "metadata": {},
     "output_type": "execute_result"
    }
   ],
   "source": [
    "maup.doctor(vest18_df)"
   ]
  },
  {
   "cell_type": "code",
   "execution_count": 40,
   "metadata": {},
   "outputs": [
    {
     "name": "stderr",
     "output_type": "stream",
     "text": [
      "100%|██████████| 1492/1492 [00:05<00:00, 297.74it/s]\n",
      "100%|██████████| 1492/1492 [00:10<00:00, 138.37it/s]\n"
     ]
    }
   ],
   "source": [
    "blocks_to_2018precincts_assignment = maup.assign(population_df.geometry, vest18_df.geometry)"
   ]
  },
  {
   "cell_type": "code",
   "execution_count": 43,
   "metadata": {},
   "outputs": [
    {
     "ename": "TypeError",
     "evalue": "can't multiply sequence by non-int of type 'float'",
     "output_type": "error",
     "traceback": [
      "\u001b[0;31m---------------------------------------------------------------------------\u001b[0m",
      "\u001b[0;31mTypeError\u001b[0m                                 Traceback (most recent call last)",
      "File \u001b[0;32m/opt/anaconda3/envs/gerry/lib/python3.11/site-packages/pandas/core/ops/array_ops.py:218\u001b[0m, in \u001b[0;36m_na_arithmetic_op\u001b[0;34m(left, right, op, is_cmp)\u001b[0m\n\u001b[1;32m    217\u001b[0m \u001b[38;5;28;01mtry\u001b[39;00m:\n\u001b[0;32m--> 218\u001b[0m     result \u001b[38;5;241m=\u001b[39m func(left, right)\n\u001b[1;32m    219\u001b[0m \u001b[38;5;28;01mexcept\u001b[39;00m \u001b[38;5;167;01mTypeError\u001b[39;00m:\n",
      "File \u001b[0;32m/opt/anaconda3/envs/gerry/lib/python3.11/site-packages/pandas/core/computation/expressions.py:242\u001b[0m, in \u001b[0;36mevaluate\u001b[0;34m(op, a, b, use_numexpr)\u001b[0m\n\u001b[1;32m    240\u001b[0m     \u001b[38;5;28;01mif\u001b[39;00m use_numexpr:\n\u001b[1;32m    241\u001b[0m         \u001b[38;5;66;03m# error: \"None\" not callable\u001b[39;00m\n\u001b[0;32m--> 242\u001b[0m         \u001b[38;5;28;01mreturn\u001b[39;00m _evaluate(op, op_str, a, b)  \u001b[38;5;66;03m# type: ignore[misc]\u001b[39;00m\n\u001b[1;32m    243\u001b[0m \u001b[38;5;28;01mreturn\u001b[39;00m _evaluate_standard(op, op_str, a, b)\n",
      "File \u001b[0;32m/opt/anaconda3/envs/gerry/lib/python3.11/site-packages/pandas/core/computation/expressions.py:73\u001b[0m, in \u001b[0;36m_evaluate_standard\u001b[0;34m(op, op_str, a, b)\u001b[0m\n\u001b[1;32m     72\u001b[0m     _store_test_result(\u001b[38;5;28;01mFalse\u001b[39;00m)\n\u001b[0;32m---> 73\u001b[0m \u001b[38;5;28;01mreturn\u001b[39;00m op(a, b)\n",
      "\u001b[0;31mTypeError\u001b[0m: can't multiply sequence by non-int of type 'float'",
      "\nDuring handling of the above exception, another exception occurred:\n",
      "\u001b[0;31mTypeError\u001b[0m                                 Traceback (most recent call last)",
      "Cell \u001b[0;32mIn[43], line 4\u001b[0m\n\u001b[1;32m      2\u001b[0m weights2018 \u001b[38;5;241m=\u001b[39m vap_df[\u001b[38;5;124m\"\u001b[39m\u001b[38;5;124mVAP\u001b[39m\u001b[38;5;124m\"\u001b[39m]\u001b[38;5;241m/\u001b[39mblocks_to_2018precincts_assignment\u001b[38;5;241m.\u001b[39mmap(vap_df[\u001b[38;5;124m\"\u001b[39m\u001b[38;5;124mVAP\u001b[39m\u001b[38;5;124m\"\u001b[39m]\u001b[38;5;241m.\u001b[39mgroupby(blocks_to_2018precincts_assignment)\u001b[38;5;241m.\u001b[39msum())\n\u001b[1;32m      3\u001b[0m weights2018 \u001b[38;5;241m=\u001b[39m weights2018\u001b[38;5;241m.\u001b[39mfillna(\u001b[38;5;241m0\u001b[39m)\n\u001b[0;32m----> 4\u001b[0m prorated2018 \u001b[38;5;241m=\u001b[39m maup\u001b[38;5;241m.\u001b[39mprorate(blocks_to_2018precincts_assignment, vest18_df[elec2018_cols], weights2018)\n\u001b[1;32m      5\u001b[0m final_df[elec2018_cols] \u001b[38;5;241m=\u001b[39m prorated2018\n",
      "File \u001b[0;32m/opt/anaconda3/envs/gerry/lib/python3.11/site-packages/maup/intersections.py:82\u001b[0m, in \u001b[0;36mprorate\u001b[0;34m(relationship, data, weights, aggregate_by)\u001b[0m\n\u001b[1;32m     78\u001b[0m weights \u001b[38;5;241m=\u001b[39m weights\u001b[38;5;241m.\u001b[39mreindex_like(relationship)\n\u001b[1;32m     80\u001b[0m \u001b[38;5;28;01mif\u001b[39;00m \u001b[38;5;28misinstance\u001b[39m(data, pandas\u001b[38;5;241m.\u001b[39mDataFrame):\n\u001b[1;32m     81\u001b[0m     disagreggated \u001b[38;5;241m=\u001b[39m pandas\u001b[38;5;241m.\u001b[39mDataFrame(\n\u001b[0;32m---> 82\u001b[0m         {\n\u001b[1;32m     83\u001b[0m             column: source_assignment\u001b[38;5;241m.\u001b[39mmap(data[column]) \u001b[38;5;241m*\u001b[39m weights\n\u001b[1;32m     84\u001b[0m             \u001b[38;5;28;01mfor\u001b[39;00m column \u001b[38;5;129;01min\u001b[39;00m data\u001b[38;5;241m.\u001b[39mcolumns\n\u001b[1;32m     85\u001b[0m         }\n\u001b[1;32m     86\u001b[0m     )\n\u001b[1;32m     87\u001b[0m \u001b[38;5;28;01melif\u001b[39;00m \u001b[38;5;28misinstance\u001b[39m(data, pandas\u001b[38;5;241m.\u001b[39mSeries):\n\u001b[1;32m     88\u001b[0m     disagreggated \u001b[38;5;241m=\u001b[39m source_assignment\u001b[38;5;241m.\u001b[39mmap(data) \u001b[38;5;241m*\u001b[39m weights\n",
      "File \u001b[0;32m/opt/anaconda3/envs/gerry/lib/python3.11/site-packages/maup/intersections.py:83\u001b[0m, in \u001b[0;36m<dictcomp>\u001b[0;34m(.0)\u001b[0m\n\u001b[1;32m     78\u001b[0m weights \u001b[38;5;241m=\u001b[39m weights\u001b[38;5;241m.\u001b[39mreindex_like(relationship)\n\u001b[1;32m     80\u001b[0m \u001b[38;5;28;01mif\u001b[39;00m \u001b[38;5;28misinstance\u001b[39m(data, pandas\u001b[38;5;241m.\u001b[39mDataFrame):\n\u001b[1;32m     81\u001b[0m     disagreggated \u001b[38;5;241m=\u001b[39m pandas\u001b[38;5;241m.\u001b[39mDataFrame(\n\u001b[1;32m     82\u001b[0m         {\n\u001b[0;32m---> 83\u001b[0m             column: source_assignment\u001b[38;5;241m.\u001b[39mmap(data[column]) \u001b[38;5;241m*\u001b[39m weights\n\u001b[1;32m     84\u001b[0m             \u001b[38;5;28;01mfor\u001b[39;00m column \u001b[38;5;129;01min\u001b[39;00m data\u001b[38;5;241m.\u001b[39mcolumns\n\u001b[1;32m     85\u001b[0m         }\n\u001b[1;32m     86\u001b[0m     )\n\u001b[1;32m     87\u001b[0m \u001b[38;5;28;01melif\u001b[39;00m \u001b[38;5;28misinstance\u001b[39m(data, pandas\u001b[38;5;241m.\u001b[39mSeries):\n\u001b[1;32m     88\u001b[0m     disagreggated \u001b[38;5;241m=\u001b[39m source_assignment\u001b[38;5;241m.\u001b[39mmap(data) \u001b[38;5;241m*\u001b[39m weights\n",
      "File \u001b[0;32m/opt/anaconda3/envs/gerry/lib/python3.11/site-packages/pandas/core/ops/common.py:76\u001b[0m, in \u001b[0;36m_unpack_zerodim_and_defer.<locals>.new_method\u001b[0;34m(self, other)\u001b[0m\n\u001b[1;32m     72\u001b[0m             \u001b[38;5;28;01mreturn\u001b[39;00m \u001b[38;5;28mNotImplemented\u001b[39m\n\u001b[1;32m     74\u001b[0m other \u001b[38;5;241m=\u001b[39m item_from_zerodim(other)\n\u001b[0;32m---> 76\u001b[0m \u001b[38;5;28;01mreturn\u001b[39;00m method(\u001b[38;5;28mself\u001b[39m, other)\n",
      "File \u001b[0;32m/opt/anaconda3/envs/gerry/lib/python3.11/site-packages/pandas/core/arraylike.py:202\u001b[0m, in \u001b[0;36mOpsMixin.__mul__\u001b[0;34m(self, other)\u001b[0m\n\u001b[1;32m    200\u001b[0m \u001b[38;5;129m@unpack_zerodim_and_defer\u001b[39m(\u001b[38;5;124m\"\u001b[39m\u001b[38;5;124m__mul__\u001b[39m\u001b[38;5;124m\"\u001b[39m)\n\u001b[1;32m    201\u001b[0m \u001b[38;5;28;01mdef\u001b[39;00m \u001b[38;5;21m__mul__\u001b[39m(\u001b[38;5;28mself\u001b[39m, other):\n\u001b[0;32m--> 202\u001b[0m     \u001b[38;5;28;01mreturn\u001b[39;00m \u001b[38;5;28mself\u001b[39m\u001b[38;5;241m.\u001b[39m_arith_method(other, operator\u001b[38;5;241m.\u001b[39mmul)\n",
      "File \u001b[0;32m/opt/anaconda3/envs/gerry/lib/python3.11/site-packages/pandas/core/series.py:6135\u001b[0m, in \u001b[0;36mSeries._arith_method\u001b[0;34m(self, other, op)\u001b[0m\n\u001b[1;32m   6133\u001b[0m \u001b[38;5;28;01mdef\u001b[39;00m \u001b[38;5;21m_arith_method\u001b[39m(\u001b[38;5;28mself\u001b[39m, other, op):\n\u001b[1;32m   6134\u001b[0m     \u001b[38;5;28mself\u001b[39m, other \u001b[38;5;241m=\u001b[39m \u001b[38;5;28mself\u001b[39m\u001b[38;5;241m.\u001b[39m_align_for_op(other)\n\u001b[0;32m-> 6135\u001b[0m     \u001b[38;5;28;01mreturn\u001b[39;00m base\u001b[38;5;241m.\u001b[39mIndexOpsMixin\u001b[38;5;241m.\u001b[39m_arith_method(\u001b[38;5;28mself\u001b[39m, other, op)\n",
      "File \u001b[0;32m/opt/anaconda3/envs/gerry/lib/python3.11/site-packages/pandas/core/base.py:1382\u001b[0m, in \u001b[0;36mIndexOpsMixin._arith_method\u001b[0;34m(self, other, op)\u001b[0m\n\u001b[1;32m   1379\u001b[0m     rvalues \u001b[38;5;241m=\u001b[39m np\u001b[38;5;241m.\u001b[39marange(rvalues\u001b[38;5;241m.\u001b[39mstart, rvalues\u001b[38;5;241m.\u001b[39mstop, rvalues\u001b[38;5;241m.\u001b[39mstep)\n\u001b[1;32m   1381\u001b[0m \u001b[38;5;28;01mwith\u001b[39;00m np\u001b[38;5;241m.\u001b[39merrstate(\u001b[38;5;28mall\u001b[39m\u001b[38;5;241m=\u001b[39m\u001b[38;5;124m\"\u001b[39m\u001b[38;5;124mignore\u001b[39m\u001b[38;5;124m\"\u001b[39m):\n\u001b[0;32m-> 1382\u001b[0m     result \u001b[38;5;241m=\u001b[39m ops\u001b[38;5;241m.\u001b[39marithmetic_op(lvalues, rvalues, op)\n\u001b[1;32m   1384\u001b[0m \u001b[38;5;28;01mreturn\u001b[39;00m \u001b[38;5;28mself\u001b[39m\u001b[38;5;241m.\u001b[39m_construct_result(result, name\u001b[38;5;241m=\u001b[39mres_name)\n",
      "File \u001b[0;32m/opt/anaconda3/envs/gerry/lib/python3.11/site-packages/pandas/core/ops/array_ops.py:283\u001b[0m, in \u001b[0;36marithmetic_op\u001b[0;34m(left, right, op)\u001b[0m\n\u001b[1;32m    279\u001b[0m     _bool_arith_check(op, left, right)  \u001b[38;5;66;03m# type: ignore[arg-type]\u001b[39;00m\n\u001b[1;32m    281\u001b[0m     \u001b[38;5;66;03m# error: Argument 1 to \"_na_arithmetic_op\" has incompatible type\u001b[39;00m\n\u001b[1;32m    282\u001b[0m     \u001b[38;5;66;03m# \"Union[ExtensionArray, ndarray[Any, Any]]\"; expected \"ndarray[Any, Any]\"\u001b[39;00m\n\u001b[0;32m--> 283\u001b[0m     res_values \u001b[38;5;241m=\u001b[39m _na_arithmetic_op(left, right, op)  \u001b[38;5;66;03m# type: ignore[arg-type]\u001b[39;00m\n\u001b[1;32m    285\u001b[0m \u001b[38;5;28;01mreturn\u001b[39;00m res_values\n",
      "File \u001b[0;32m/opt/anaconda3/envs/gerry/lib/python3.11/site-packages/pandas/core/ops/array_ops.py:227\u001b[0m, in \u001b[0;36m_na_arithmetic_op\u001b[0;34m(left, right, op, is_cmp)\u001b[0m\n\u001b[1;32m    219\u001b[0m \u001b[38;5;28;01mexcept\u001b[39;00m \u001b[38;5;167;01mTypeError\u001b[39;00m:\n\u001b[1;32m    220\u001b[0m     \u001b[38;5;28;01mif\u001b[39;00m \u001b[38;5;129;01mnot\u001b[39;00m is_cmp \u001b[38;5;129;01mand\u001b[39;00m (\n\u001b[1;32m    221\u001b[0m         left\u001b[38;5;241m.\u001b[39mdtype \u001b[38;5;241m==\u001b[39m \u001b[38;5;28mobject\u001b[39m \u001b[38;5;129;01mor\u001b[39;00m \u001b[38;5;28mgetattr\u001b[39m(right, \u001b[38;5;124m\"\u001b[39m\u001b[38;5;124mdtype\u001b[39m\u001b[38;5;124m\"\u001b[39m, \u001b[38;5;28;01mNone\u001b[39;00m) \u001b[38;5;241m==\u001b[39m \u001b[38;5;28mobject\u001b[39m\n\u001b[1;32m    222\u001b[0m     ):\n\u001b[0;32m   (...)\u001b[0m\n\u001b[1;32m    225\u001b[0m         \u001b[38;5;66;03m# Don't do this for comparisons, as that will handle complex numbers\u001b[39;00m\n\u001b[1;32m    226\u001b[0m         \u001b[38;5;66;03m#  incorrectly, see GH#32047\u001b[39;00m\n\u001b[0;32m--> 227\u001b[0m         result \u001b[38;5;241m=\u001b[39m _masked_arith_op(left, right, op)\n\u001b[1;32m    228\u001b[0m     \u001b[38;5;28;01melse\u001b[39;00m:\n\u001b[1;32m    229\u001b[0m         \u001b[38;5;28;01mraise\u001b[39;00m\n",
      "File \u001b[0;32m/opt/anaconda3/envs/gerry/lib/python3.11/site-packages/pandas/core/ops/array_ops.py:163\u001b[0m, in \u001b[0;36m_masked_arith_op\u001b[0;34m(x, y, op)\u001b[0m\n\u001b[1;32m    161\u001b[0m     \u001b[38;5;66;03m# See GH#5284, GH#5035, GH#19448 for historical reference\u001b[39;00m\n\u001b[1;32m    162\u001b[0m     \u001b[38;5;28;01mif\u001b[39;00m mask\u001b[38;5;241m.\u001b[39many():\n\u001b[0;32m--> 163\u001b[0m         result[mask] \u001b[38;5;241m=\u001b[39m op(xrav[mask], yrav[mask])\n\u001b[1;32m    165\u001b[0m \u001b[38;5;28;01melse\u001b[39;00m:\n\u001b[1;32m    166\u001b[0m     \u001b[38;5;28;01mif\u001b[39;00m \u001b[38;5;129;01mnot\u001b[39;00m is_scalar(y):\n",
      "\u001b[0;31mTypeError\u001b[0m: can't multiply sequence by non-int of type 'float'"
     ]
    }
   ],
   "source": [
    "#Prorate the election data to the precincts\n",
    "weights2018 = vap_df[\"VAP\"]/blocks_to_2018precincts_assignment.map(vap_df[\"VAP\"].groupby(blocks_to_2018precincts_assignment).sum())\n",
    "weights2018 = weights2018.fillna(0)\n",
    "prorated2018 = maup.prorate(blocks_to_2018precincts_assignment, vest18_df[elec2018_cols], weights2018)\n",
    "final_df[elec2018_cols] = prorated2018"
   ]
  },
  {
   "cell_type": "code",
   "execution_count": 44,
   "metadata": {},
   "outputs": [
    {
     "name": "stderr",
     "output_type": "stream",
     "text": [
      "100%|██████████| 42/42 [00:00<00:00, 135.12it/s]\n",
      "100%|██████████| 42/42 [00:02<00:00, 15.80it/s]\n"
     ]
    }
   ],
   "source": [
    "#Assign the precincts to the districts\n",
    "precincts_to_districts_assignment = maup.assign(final_df.geometry, sen_df.geometry)\n",
    "final_df[\"SEND\"] = precincts_to_districts_assignment"
   ]
  },
  {
   "cell_type": "code",
   "execution_count": 45,
   "metadata": {},
   "outputs": [
    {
     "name": "stdout",
     "output_type": "stream",
     "text": [
      "{0, 1, 2, 3, 4, 5, 6, 7, 8, 9, 10, 11, 12, 13, 14, 15, 16, 17, 18, 19, 20, 21, 22, 23, 24, 25, 26, 27, 28, 29, 30, 31, 32, 33, 34, 35, 36, 37, 38, 39, 40, 41}\n"
     ]
    }
   ],
   "source": [
    "print(set(final_df[\"SEND\"]))"
   ]
  },
  {
   "cell_type": "code",
   "execution_count": 46,
   "metadata": {},
   "outputs": [],
   "source": [
    "#Assign the precincts to the districts\n",
    "district_col_name = \"DISTRICT\"\n",
    "for precinct_index in range(len(final_df)):\n",
    "    final_df.at[precinct_index, \"SEND\"] = sen_df.at[int(final_df.at[precinct_index, \"SEND\"]), district_col_name]\n"
   ]
  },
  {
   "cell_type": "code",
   "execution_count": 30,
   "metadata": {},
   "outputs": [
    {
     "data": {
      "text/plain": [
       "Index(['STATEFP', 'COUNTYFP', 'COUNTYNAME', 'VTDST', 'NAME', 'G20PRED',\n",
       "       'G20PRER', 'G20PRELJOR', 'G20PREGHAW', 'G20PRECTIT', 'G20PRESLAR',\n",
       "       'G20USSDLUJ', 'G20USSRRON', 'G20USSLWAL', 'G20SSCDBAC', 'G20SSCRFUL',\n",
       "       'G20SSCDTHO', 'G20SSCRMOR', 'G20SACDIVE', 'G20SACRJOH', 'G20SACDHEN',\n",
       "       'G20SACRLEE', 'G20SACLCUR', 'G20SACDYOH', 'G20SACRMON', 'geometry',\n",
       "       'P0010001', 'P0010002', 'P0010005', 'P0010006', 'P0010007', 'P0010008',\n",
       "       'P0010009', 'P0010010', 'P0010011', 'VAP', 'HVAP', 'WVAP', 'BVAP',\n",
       "       'AMINVAP', 'ASIANVAP', 'NHPIVAP', 'OTHERVAP', '2MOREVAP'],\n",
       "      dtype='object')"
      ]
     },
     "execution_count": 30,
     "metadata": {},
     "output_type": "execute_result"
    }
   ],
   "source": [
    "final_df.columns"
   ]
  },
  {
   "cell_type": "code",
   "execution_count": 47,
   "metadata": {},
   "outputs": [
    {
     "name": "stdout",
     "output_type": "stream",
     "text": [
      "[46414, 46284, 45835, 50386, 49378, 51511, 51810, 47712, 52212, 47018, 50376, 51500, 50218, 49446, 48656, 51443, 49032, 50710, 50289, 51380, 51801, 50889, 54738, 50648, 51100, 48462, 51855, 50572, 51784, 48020, 48916, 48530, 51905, 52980, 52817, 50829, 48711, 51938, 52567, 50919, 52799]\n"
     ]
    },
    {
     "data": {
      "image/png": "[encoded data removed]",
      "text/plain": [
       "<Figure size 640x480 with 1 Axes>"
      ]
     },
     "metadata": {},
     "output_type": "display_data"
    }
   ],
   "source": [
    "final_df.plot()\n",
    "pop_vals = [final_df.loc[final_df[\"SEND\"] == str(n), \"P0010001\"].sum() for n in range(1, 42)]\n",
    "print(pop_vals)"
   ]
  }
 ],
 "metadata": {
  "kernelspec": {
   "display_name": "gerry",
   "language": "python",
   "name": "python3"
  },
  "language_info": {
   "codemirror_mode": {
    "name": "ipython",
    "version": 3
   },
   "file_extension": ".py",
   "mimetype": "text/x-python",
   "name": "python",
   "nbconvert_exporter": "python",
   "pygments_lexer": "ipython3",
   "version": "3.11.4"
  }
 },
 "nbformat": 4,
 "nbformat_minor": 4
}
